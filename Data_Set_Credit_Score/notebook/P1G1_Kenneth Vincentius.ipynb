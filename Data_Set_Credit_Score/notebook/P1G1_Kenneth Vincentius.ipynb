{
 "cells": [
  {
   "cell_type": "markdown",
   "metadata": {},
   "source": [
    "# i. Perkenalan "
   ]
  },
  {
   "cell_type": "markdown",
   "metadata": {},
   "source": [
    "---\n",
    "\n",
    "Graded Challenge 5\n",
    "\n",
    "Nama  : Kenneth Vincentius\n",
    "\n",
    "Batch : HCK-007\n",
    "\n",
    "Membuat Model dimana untuk mempredik apakah user bisa atau tidak membayar untuk bulan depan berdasarkan history data pembayaran user pada bulan-bulan sebelumnya\n",
    "\n",
    "---"
   ]
  },
  {
   "cell_type": "markdown",
   "metadata": {},
   "source": [
    " Latar Belakang : Saya adalah seorang data sientict di PT. ABC dan saya diberikan proyek untuk mengelola data set tentang credit score pembayaran user mereka. Saya diminta untuk memilih model yang tepat yang tepat untuk digunakan pada dataset ini dan saya juga harus memberikan prediksi terhadap user-user yang ada apakah mereka bisa membayar untuk bulan berikutnya atau tidak berdasarkan dari data history mereka sebelum-sebelumnya"
   ]
  },
  {
   "cell_type": "markdown",
   "metadata": {},
   "source": [
    "Problem Statement : Memprediksi kemampuan user untuk membayar sehingga dapat mengurangi user yang tidak mampu bayar sebanyak 10% dalam waktu 3 bulan untuk mengurangi kerugian"
   ]
  },
  {
   "cell_type": "markdown",
   "metadata": {},
   "source": [
    "# ii. SQL Query"
   ]
  },
  {
   "cell_type": "markdown",
   "metadata": {},
   "source": [
    "Syntax SQL untuk memilih kolom mana saja yang akan digunakan untuk "
   ]
  },
  {
   "cell_type": "markdown",
   "metadata": {},
   "source": [
    "```sql\n",
    "SELECT\n",
    "    limit_balance,\n",
    "    CAST(sex AS INT64) AS sex,\n",
    "    CAST(education_level AS INT64) AS education_level,\n",
    "    CAST(marital_status AS INT64) AS marital_status,\n",
    "    age,\n",
    "    pay_0,\n",
    "    pay_2,\n",
    "    pay_3,\n",
    "    pay_4,\n",
    "    CAST(pay_5 AS FLOAT64) AS pay_5,\n",
    "    CAST(pay_6 AS FLOAT64) AS pay_6,\n",
    "    bill_amt_1,\n",
    "    bill_amt_2,\n",
    "    bill_amt_3,\n",
    "    bill_amt_4,\n",
    "    bill_amt_5,\n",
    "    bill_amt_6,\n",
    "    pay_amt_1,\n",
    "    pay_amt_2,\n",
    "    pay_amt_3,\n",
    "    pay_amt_4,\n",
    "    pay_amt_5,\n",
    "    pay_amt_6,\n",
    "    CAST(default_payment_next_month AS INT64) AS default_payment_next_month\n",
    "FROM `bigquery-public-data.ml_datasets.credit_card_default`\n",
    "LIMIT 19950;\n",
    "```"
   ]
  },
  {
   "cell_type": "markdown",
   "metadata": {},
   "source": [
    "# iii. Import Libraries "
   ]
  },
  {
   "cell_type": "code",
   "execution_count": 70,
   "metadata": {},
   "outputs": [],
   "source": [
    "import pandas as pd\n",
    "import numpy as np\n",
    "import seaborn as sns\n",
    "import matplotlib.pyplot as plt\n",
    "from scipy import stats\n",
    "from scipy.stats import kendalltau\n",
    "import pickle\n",
    "\n",
    "\n",
    "# preprocessing\n",
    "from sklearn.model_selection import train_test_split\n",
    "from sklearn.preprocessing import MinMaxScaler\n",
    "from feature_engine.outliers import Winsorizer , OutlierTrimmer\n",
    "from imblearn.over_sampling import SMOTENC\n",
    "\n",
    "# model \n",
    "from sklearn.linear_model import LogisticRegression\n",
    "from sklearn.neighbors import KNeighborsClassifier\n",
    "from sklearn.svm import SVC\n",
    "from sklearn.model_selection import RandomizedSearchCV\n",
    "from sklearn.metrics import classification_report, confusion_matrix, ConfusionMatrixDisplay, f1_score, accuracy_score, precision_score, recall_score\n",
    "from sklearn.model_selection import cross_val_score"
   ]
  },
  {
   "cell_type": "markdown",
   "metadata": {},
   "source": [
    "# iv. Data Loading"
   ]
  },
  {
   "cell_type": "code",
   "execution_count": 71,
   "metadata": {},
   "outputs": [],
   "source": [
    "#loading data csv yang sudah disimpan ke dalam bentuk csv dari bigquery\n",
    "df=pd.read_csv('../dataset/P1G1_Kenneth Vincentius.csv')"
   ]
  },
  {
   "cell_type": "code",
   "execution_count": 72,
   "metadata": {},
   "outputs": [
    {
     "data": {
      "text/html": [
       "<div>\n",
       "<style scoped>\n",
       "    .dataframe tbody tr th:only-of-type {\n",
       "        vertical-align: middle;\n",
       "    }\n",
       "\n",
       "    .dataframe tbody tr th {\n",
       "        vertical-align: top;\n",
       "    }\n",
       "\n",
       "    .dataframe thead th {\n",
       "        text-align: right;\n",
       "    }\n",
       "</style>\n",
       "<table border=\"1\" class=\"dataframe\">\n",
       "  <thead>\n",
       "    <tr style=\"text-align: right;\">\n",
       "      <th></th>\n",
       "      <th>limit_balance</th>\n",
       "      <th>sex</th>\n",
       "      <th>education_level</th>\n",
       "      <th>marital_status</th>\n",
       "      <th>age</th>\n",
       "      <th>pay_0</th>\n",
       "      <th>pay_2</th>\n",
       "      <th>pay_3</th>\n",
       "      <th>pay_4</th>\n",
       "      <th>pay_5</th>\n",
       "      <th>...</th>\n",
       "      <th>bill_amt_4</th>\n",
       "      <th>bill_amt_5</th>\n",
       "      <th>bill_amt_6</th>\n",
       "      <th>pay_amt_1</th>\n",
       "      <th>pay_amt_2</th>\n",
       "      <th>pay_amt_3</th>\n",
       "      <th>pay_amt_4</th>\n",
       "      <th>pay_amt_5</th>\n",
       "      <th>pay_amt_6</th>\n",
       "      <th>default_payment_next_month</th>\n",
       "    </tr>\n",
       "  </thead>\n",
       "  <tbody>\n",
       "    <tr>\n",
       "      <th>0</th>\n",
       "      <td>80000.0</td>\n",
       "      <td>1</td>\n",
       "      <td>6</td>\n",
       "      <td>1</td>\n",
       "      <td>54.0</td>\n",
       "      <td>0.0</td>\n",
       "      <td>0.0</td>\n",
       "      <td>0.0</td>\n",
       "      <td>0.0</td>\n",
       "      <td>0.0</td>\n",
       "      <td>...</td>\n",
       "      <td>29296.0</td>\n",
       "      <td>26210.0</td>\n",
       "      <td>17643.0</td>\n",
       "      <td>2545.0</td>\n",
       "      <td>2208.0</td>\n",
       "      <td>1336.0</td>\n",
       "      <td>2232.0</td>\n",
       "      <td>542.0</td>\n",
       "      <td>348.0</td>\n",
       "      <td>1</td>\n",
       "    </tr>\n",
       "    <tr>\n",
       "      <th>1</th>\n",
       "      <td>200000.0</td>\n",
       "      <td>1</td>\n",
       "      <td>4</td>\n",
       "      <td>1</td>\n",
       "      <td>49.0</td>\n",
       "      <td>0.0</td>\n",
       "      <td>0.0</td>\n",
       "      <td>0.0</td>\n",
       "      <td>0.0</td>\n",
       "      <td>0.0</td>\n",
       "      <td>...</td>\n",
       "      <td>50146.0</td>\n",
       "      <td>50235.0</td>\n",
       "      <td>48984.0</td>\n",
       "      <td>1689.0</td>\n",
       "      <td>2164.0</td>\n",
       "      <td>2500.0</td>\n",
       "      <td>3480.0</td>\n",
       "      <td>2500.0</td>\n",
       "      <td>3000.0</td>\n",
       "      <td>0</td>\n",
       "    </tr>\n",
       "    <tr>\n",
       "      <th>2</th>\n",
       "      <td>20000.0</td>\n",
       "      <td>2</td>\n",
       "      <td>6</td>\n",
       "      <td>2</td>\n",
       "      <td>22.0</td>\n",
       "      <td>0.0</td>\n",
       "      <td>0.0</td>\n",
       "      <td>0.0</td>\n",
       "      <td>0.0</td>\n",
       "      <td>0.0</td>\n",
       "      <td>...</td>\n",
       "      <td>1434.0</td>\n",
       "      <td>500.0</td>\n",
       "      <td>0.0</td>\n",
       "      <td>4641.0</td>\n",
       "      <td>1019.0</td>\n",
       "      <td>900.0</td>\n",
       "      <td>0.0</td>\n",
       "      <td>1500.0</td>\n",
       "      <td>0.0</td>\n",
       "      <td>1</td>\n",
       "    </tr>\n",
       "    <tr>\n",
       "      <th>3</th>\n",
       "      <td>260000.0</td>\n",
       "      <td>2</td>\n",
       "      <td>4</td>\n",
       "      <td>2</td>\n",
       "      <td>33.0</td>\n",
       "      <td>0.0</td>\n",
       "      <td>0.0</td>\n",
       "      <td>0.0</td>\n",
       "      <td>0.0</td>\n",
       "      <td>0.0</td>\n",
       "      <td>...</td>\n",
       "      <td>27821.0</td>\n",
       "      <td>30767.0</td>\n",
       "      <td>29890.0</td>\n",
       "      <td>5000.0</td>\n",
       "      <td>5000.0</td>\n",
       "      <td>1137.0</td>\n",
       "      <td>5000.0</td>\n",
       "      <td>1085.0</td>\n",
       "      <td>5000.0</td>\n",
       "      <td>0</td>\n",
       "    </tr>\n",
       "    <tr>\n",
       "      <th>4</th>\n",
       "      <td>150000.0</td>\n",
       "      <td>1</td>\n",
       "      <td>4</td>\n",
       "      <td>2</td>\n",
       "      <td>32.0</td>\n",
       "      <td>0.0</td>\n",
       "      <td>0.0</td>\n",
       "      <td>0.0</td>\n",
       "      <td>-1.0</td>\n",
       "      <td>0.0</td>\n",
       "      <td>...</td>\n",
       "      <td>150464.0</td>\n",
       "      <td>143375.0</td>\n",
       "      <td>146411.0</td>\n",
       "      <td>4019.0</td>\n",
       "      <td>146896.0</td>\n",
       "      <td>157436.0</td>\n",
       "      <td>4600.0</td>\n",
       "      <td>4709.0</td>\n",
       "      <td>5600.0</td>\n",
       "      <td>0</td>\n",
       "    </tr>\n",
       "    <tr>\n",
       "      <th>5</th>\n",
       "      <td>300000.0</td>\n",
       "      <td>2</td>\n",
       "      <td>4</td>\n",
       "      <td>2</td>\n",
       "      <td>32.0</td>\n",
       "      <td>0.0</td>\n",
       "      <td>0.0</td>\n",
       "      <td>0.0</td>\n",
       "      <td>0.0</td>\n",
       "      <td>0.0</td>\n",
       "      <td>...</td>\n",
       "      <td>65150.0</td>\n",
       "      <td>-450.0</td>\n",
       "      <td>700.0</td>\n",
       "      <td>15235.0</td>\n",
       "      <td>1491.0</td>\n",
       "      <td>1303.0</td>\n",
       "      <td>0.0</td>\n",
       "      <td>2000.0</td>\n",
       "      <td>1400.0</td>\n",
       "      <td>0</td>\n",
       "    </tr>\n",
       "    <tr>\n",
       "      <th>6</th>\n",
       "      <td>130000.0</td>\n",
       "      <td>1</td>\n",
       "      <td>1</td>\n",
       "      <td>1</td>\n",
       "      <td>45.0</td>\n",
       "      <td>0.0</td>\n",
       "      <td>0.0</td>\n",
       "      <td>0.0</td>\n",
       "      <td>0.0</td>\n",
       "      <td>0.0</td>\n",
       "      <td>...</td>\n",
       "      <td>62377.0</td>\n",
       "      <td>63832.0</td>\n",
       "      <td>65099.0</td>\n",
       "      <td>2886.0</td>\n",
       "      <td>2908.0</td>\n",
       "      <td>2129.0</td>\n",
       "      <td>2354.0</td>\n",
       "      <td>2366.0</td>\n",
       "      <td>2291.0</td>\n",
       "      <td>0</td>\n",
       "    </tr>\n",
       "    <tr>\n",
       "      <th>7</th>\n",
       "      <td>200000.0</td>\n",
       "      <td>1</td>\n",
       "      <td>1</td>\n",
       "      <td>1</td>\n",
       "      <td>58.0</td>\n",
       "      <td>0.0</td>\n",
       "      <td>0.0</td>\n",
       "      <td>0.0</td>\n",
       "      <td>0.0</td>\n",
       "      <td>0.0</td>\n",
       "      <td>...</td>\n",
       "      <td>124647.0</td>\n",
       "      <td>126921.0</td>\n",
       "      <td>129167.0</td>\n",
       "      <td>7822.0</td>\n",
       "      <td>4417.0</td>\n",
       "      <td>4446.0</td>\n",
       "      <td>4597.0</td>\n",
       "      <td>4677.0</td>\n",
       "      <td>4698.0</td>\n",
       "      <td>0</td>\n",
       "    </tr>\n",
       "    <tr>\n",
       "      <th>8</th>\n",
       "      <td>500000.0</td>\n",
       "      <td>1</td>\n",
       "      <td>1</td>\n",
       "      <td>1</td>\n",
       "      <td>39.0</td>\n",
       "      <td>0.0</td>\n",
       "      <td>0.0</td>\n",
       "      <td>0.0</td>\n",
       "      <td>0.0</td>\n",
       "      <td>0.0</td>\n",
       "      <td>...</td>\n",
       "      <td>174500.0</td>\n",
       "      <td>137406.0</td>\n",
       "      <td>204975.0</td>\n",
       "      <td>54209.0</td>\n",
       "      <td>4607.0</td>\n",
       "      <td>4603.0</td>\n",
       "      <td>5224.0</td>\n",
       "      <td>207440.0</td>\n",
       "      <td>7509.0</td>\n",
       "      <td>0</td>\n",
       "    </tr>\n",
       "    <tr>\n",
       "      <th>9</th>\n",
       "      <td>230000.0</td>\n",
       "      <td>1</td>\n",
       "      <td>1</td>\n",
       "      <td>1</td>\n",
       "      <td>48.0</td>\n",
       "      <td>0.0</td>\n",
       "      <td>0.0</td>\n",
       "      <td>0.0</td>\n",
       "      <td>0.0</td>\n",
       "      <td>0.0</td>\n",
       "      <td>...</td>\n",
       "      <td>105508.0</td>\n",
       "      <td>108101.0</td>\n",
       "      <td>110094.0</td>\n",
       "      <td>7000.0</td>\n",
       "      <td>6607.0</td>\n",
       "      <td>3773.0</td>\n",
       "      <td>4290.0</td>\n",
       "      <td>4164.0</td>\n",
       "      <td>2000.0</td>\n",
       "      <td>0</td>\n",
       "    </tr>\n",
       "  </tbody>\n",
       "</table>\n",
       "<p>10 rows × 24 columns</p>\n",
       "</div>"
      ],
      "text/plain": [
       "   limit_balance  sex  education_level  marital_status   age  pay_0  pay_2  \\\n",
       "0        80000.0    1                6               1  54.0    0.0    0.0   \n",
       "1       200000.0    1                4               1  49.0    0.0    0.0   \n",
       "2        20000.0    2                6               2  22.0    0.0    0.0   \n",
       "3       260000.0    2                4               2  33.0    0.0    0.0   \n",
       "4       150000.0    1                4               2  32.0    0.0    0.0   \n",
       "5       300000.0    2                4               2  32.0    0.0    0.0   \n",
       "6       130000.0    1                1               1  45.0    0.0    0.0   \n",
       "7       200000.0    1                1               1  58.0    0.0    0.0   \n",
       "8       500000.0    1                1               1  39.0    0.0    0.0   \n",
       "9       230000.0    1                1               1  48.0    0.0    0.0   \n",
       "\n",
       "   pay_3  pay_4  pay_5  ...  bill_amt_4  bill_amt_5  bill_amt_6  pay_amt_1  \\\n",
       "0    0.0    0.0    0.0  ...     29296.0     26210.0     17643.0     2545.0   \n",
       "1    0.0    0.0    0.0  ...     50146.0     50235.0     48984.0     1689.0   \n",
       "2    0.0    0.0    0.0  ...      1434.0       500.0         0.0     4641.0   \n",
       "3    0.0    0.0    0.0  ...     27821.0     30767.0     29890.0     5000.0   \n",
       "4    0.0   -1.0    0.0  ...    150464.0    143375.0    146411.0     4019.0   \n",
       "5    0.0    0.0    0.0  ...     65150.0      -450.0       700.0    15235.0   \n",
       "6    0.0    0.0    0.0  ...     62377.0     63832.0     65099.0     2886.0   \n",
       "7    0.0    0.0    0.0  ...    124647.0    126921.0    129167.0     7822.0   \n",
       "8    0.0    0.0    0.0  ...    174500.0    137406.0    204975.0    54209.0   \n",
       "9    0.0    0.0    0.0  ...    105508.0    108101.0    110094.0     7000.0   \n",
       "\n",
       "   pay_amt_2  pay_amt_3  pay_amt_4  pay_amt_5  pay_amt_6  \\\n",
       "0     2208.0     1336.0     2232.0      542.0      348.0   \n",
       "1     2164.0     2500.0     3480.0     2500.0     3000.0   \n",
       "2     1019.0      900.0        0.0     1500.0        0.0   \n",
       "3     5000.0     1137.0     5000.0     1085.0     5000.0   \n",
       "4   146896.0   157436.0     4600.0     4709.0     5600.0   \n",
       "5     1491.0     1303.0        0.0     2000.0     1400.0   \n",
       "6     2908.0     2129.0     2354.0     2366.0     2291.0   \n",
       "7     4417.0     4446.0     4597.0     4677.0     4698.0   \n",
       "8     4607.0     4603.0     5224.0   207440.0     7509.0   \n",
       "9     6607.0     3773.0     4290.0     4164.0     2000.0   \n",
       "\n",
       "   default_payment_next_month  \n",
       "0                           1  \n",
       "1                           0  \n",
       "2                           1  \n",
       "3                           0  \n",
       "4                           0  \n",
       "5                           0  \n",
       "6                           0  \n",
       "7                           0  \n",
       "8                           0  \n",
       "9                           0  \n",
       "\n",
       "[10 rows x 24 columns]"
      ]
     },
     "execution_count": 72,
     "metadata": {},
     "output_type": "execute_result"
    }
   ],
   "source": [
    "#menampilkan 10 data teratas \n",
    "df.head(10)"
   ]
  },
  {
   "cell_type": "code",
   "execution_count": 73,
   "metadata": {},
   "outputs": [
    {
     "data": {
      "text/html": [
       "<div>\n",
       "<style scoped>\n",
       "    .dataframe tbody tr th:only-of-type {\n",
       "        vertical-align: middle;\n",
       "    }\n",
       "\n",
       "    .dataframe tbody tr th {\n",
       "        vertical-align: top;\n",
       "    }\n",
       "\n",
       "    .dataframe thead th {\n",
       "        text-align: right;\n",
       "    }\n",
       "</style>\n",
       "<table border=\"1\" class=\"dataframe\">\n",
       "  <thead>\n",
       "    <tr style=\"text-align: right;\">\n",
       "      <th></th>\n",
       "      <th>limit_balance</th>\n",
       "      <th>sex</th>\n",
       "      <th>education_level</th>\n",
       "      <th>marital_status</th>\n",
       "      <th>age</th>\n",
       "      <th>pay_0</th>\n",
       "      <th>pay_2</th>\n",
       "      <th>pay_3</th>\n",
       "      <th>pay_4</th>\n",
       "      <th>pay_5</th>\n",
       "      <th>...</th>\n",
       "      <th>bill_amt_4</th>\n",
       "      <th>bill_amt_5</th>\n",
       "      <th>bill_amt_6</th>\n",
       "      <th>pay_amt_1</th>\n",
       "      <th>pay_amt_2</th>\n",
       "      <th>pay_amt_3</th>\n",
       "      <th>pay_amt_4</th>\n",
       "      <th>pay_amt_5</th>\n",
       "      <th>pay_amt_6</th>\n",
       "      <th>default_payment_next_month</th>\n",
       "    </tr>\n",
       "  </thead>\n",
       "  <tbody>\n",
       "    <tr>\n",
       "      <th>2955</th>\n",
       "      <td>360000.0</td>\n",
       "      <td>2</td>\n",
       "      <td>2</td>\n",
       "      <td>2</td>\n",
       "      <td>26.0</td>\n",
       "      <td>-1.0</td>\n",
       "      <td>-1.0</td>\n",
       "      <td>-1.0</td>\n",
       "      <td>-1.0</td>\n",
       "      <td>-2.0</td>\n",
       "      <td>...</td>\n",
       "      <td>0.0</td>\n",
       "      <td>0.0</td>\n",
       "      <td>0.0</td>\n",
       "      <td>463.0</td>\n",
       "      <td>2500.0</td>\n",
       "      <td>0.0</td>\n",
       "      <td>0.0</td>\n",
       "      <td>0.0</td>\n",
       "      <td>0.0</td>\n",
       "      <td>0</td>\n",
       "    </tr>\n",
       "    <tr>\n",
       "      <th>2956</th>\n",
       "      <td>100000.0</td>\n",
       "      <td>1</td>\n",
       "      <td>3</td>\n",
       "      <td>1</td>\n",
       "      <td>40.0</td>\n",
       "      <td>0.0</td>\n",
       "      <td>0.0</td>\n",
       "      <td>-1.0</td>\n",
       "      <td>-1.0</td>\n",
       "      <td>-2.0</td>\n",
       "      <td>...</td>\n",
       "      <td>0.0</td>\n",
       "      <td>0.0</td>\n",
       "      <td>0.0</td>\n",
       "      <td>2000.0</td>\n",
       "      <td>2377.0</td>\n",
       "      <td>40000.0</td>\n",
       "      <td>0.0</td>\n",
       "      <td>0.0</td>\n",
       "      <td>0.0</td>\n",
       "      <td>0</td>\n",
       "    </tr>\n",
       "    <tr>\n",
       "      <th>2957</th>\n",
       "      <td>30000.0</td>\n",
       "      <td>2</td>\n",
       "      <td>3</td>\n",
       "      <td>1</td>\n",
       "      <td>48.0</td>\n",
       "      <td>1.0</td>\n",
       "      <td>-1.0</td>\n",
       "      <td>-1.0</td>\n",
       "      <td>-2.0</td>\n",
       "      <td>-2.0</td>\n",
       "      <td>...</td>\n",
       "      <td>0.0</td>\n",
       "      <td>0.0</td>\n",
       "      <td>0.0</td>\n",
       "      <td>200.0</td>\n",
       "      <td>0.0</td>\n",
       "      <td>0.0</td>\n",
       "      <td>0.0</td>\n",
       "      <td>0.0</td>\n",
       "      <td>0.0</td>\n",
       "      <td>0</td>\n",
       "    </tr>\n",
       "    <tr>\n",
       "      <th>2958</th>\n",
       "      <td>80000.0</td>\n",
       "      <td>2</td>\n",
       "      <td>3</td>\n",
       "      <td>1</td>\n",
       "      <td>39.0</td>\n",
       "      <td>-1.0</td>\n",
       "      <td>-1.0</td>\n",
       "      <td>-1.0</td>\n",
       "      <td>-1.0</td>\n",
       "      <td>-2.0</td>\n",
       "      <td>...</td>\n",
       "      <td>0.0</td>\n",
       "      <td>0.0</td>\n",
       "      <td>5000.0</td>\n",
       "      <td>5000.0</td>\n",
       "      <td>5000.0</td>\n",
       "      <td>0.0</td>\n",
       "      <td>5000.0</td>\n",
       "      <td>5000.0</td>\n",
       "      <td>470.0</td>\n",
       "      <td>0</td>\n",
       "    </tr>\n",
       "    <tr>\n",
       "      <th>2959</th>\n",
       "      <td>20000.0</td>\n",
       "      <td>1</td>\n",
       "      <td>3</td>\n",
       "      <td>2</td>\n",
       "      <td>26.0</td>\n",
       "      <td>-1.0</td>\n",
       "      <td>-1.0</td>\n",
       "      <td>-1.0</td>\n",
       "      <td>-2.0</td>\n",
       "      <td>-2.0</td>\n",
       "      <td>...</td>\n",
       "      <td>0.0</td>\n",
       "      <td>0.0</td>\n",
       "      <td>0.0</td>\n",
       "      <td>1560.0</td>\n",
       "      <td>0.0</td>\n",
       "      <td>0.0</td>\n",
       "      <td>0.0</td>\n",
       "      <td>0.0</td>\n",
       "      <td>0.0</td>\n",
       "      <td>0</td>\n",
       "    </tr>\n",
       "    <tr>\n",
       "      <th>2960</th>\n",
       "      <td>80000.0</td>\n",
       "      <td>2</td>\n",
       "      <td>3</td>\n",
       "      <td>2</td>\n",
       "      <td>28.0</td>\n",
       "      <td>-1.0</td>\n",
       "      <td>-1.0</td>\n",
       "      <td>-1.0</td>\n",
       "      <td>-2.0</td>\n",
       "      <td>-2.0</td>\n",
       "      <td>...</td>\n",
       "      <td>0.0</td>\n",
       "      <td>0.0</td>\n",
       "      <td>0.0</td>\n",
       "      <td>2800.0</td>\n",
       "      <td>0.0</td>\n",
       "      <td>0.0</td>\n",
       "      <td>0.0</td>\n",
       "      <td>0.0</td>\n",
       "      <td>0.0</td>\n",
       "      <td>0</td>\n",
       "    </tr>\n",
       "    <tr>\n",
       "      <th>2961</th>\n",
       "      <td>50000.0</td>\n",
       "      <td>2</td>\n",
       "      <td>3</td>\n",
       "      <td>1</td>\n",
       "      <td>51.0</td>\n",
       "      <td>-1.0</td>\n",
       "      <td>-1.0</td>\n",
       "      <td>-1.0</td>\n",
       "      <td>-1.0</td>\n",
       "      <td>-2.0</td>\n",
       "      <td>...</td>\n",
       "      <td>0.0</td>\n",
       "      <td>0.0</td>\n",
       "      <td>0.0</td>\n",
       "      <td>300.0</td>\n",
       "      <td>5880.0</td>\n",
       "      <td>0.0</td>\n",
       "      <td>0.0</td>\n",
       "      <td>0.0</td>\n",
       "      <td>0.0</td>\n",
       "      <td>1</td>\n",
       "    </tr>\n",
       "    <tr>\n",
       "      <th>2962</th>\n",
       "      <td>450000.0</td>\n",
       "      <td>2</td>\n",
       "      <td>2</td>\n",
       "      <td>1</td>\n",
       "      <td>38.0</td>\n",
       "      <td>-2.0</td>\n",
       "      <td>-2.0</td>\n",
       "      <td>-2.0</td>\n",
       "      <td>-2.0</td>\n",
       "      <td>-2.0</td>\n",
       "      <td>...</td>\n",
       "      <td>390.0</td>\n",
       "      <td>390.0</td>\n",
       "      <td>390.0</td>\n",
       "      <td>390.0</td>\n",
       "      <td>780.0</td>\n",
       "      <td>390.0</td>\n",
       "      <td>390.0</td>\n",
       "      <td>390.0</td>\n",
       "      <td>390.0</td>\n",
       "      <td>1</td>\n",
       "    </tr>\n",
       "    <tr>\n",
       "      <th>2963</th>\n",
       "      <td>50000.0</td>\n",
       "      <td>2</td>\n",
       "      <td>2</td>\n",
       "      <td>1</td>\n",
       "      <td>44.0</td>\n",
       "      <td>-2.0</td>\n",
       "      <td>-2.0</td>\n",
       "      <td>-2.0</td>\n",
       "      <td>-2.0</td>\n",
       "      <td>-2.0</td>\n",
       "      <td>...</td>\n",
       "      <td>390.0</td>\n",
       "      <td>390.0</td>\n",
       "      <td>0.0</td>\n",
       "      <td>390.0</td>\n",
       "      <td>390.0</td>\n",
       "      <td>390.0</td>\n",
       "      <td>390.0</td>\n",
       "      <td>0.0</td>\n",
       "      <td>780.0</td>\n",
       "      <td>0</td>\n",
       "    </tr>\n",
       "    <tr>\n",
       "      <th>2964</th>\n",
       "      <td>290000.0</td>\n",
       "      <td>2</td>\n",
       "      <td>2</td>\n",
       "      <td>1</td>\n",
       "      <td>39.0</td>\n",
       "      <td>1.0</td>\n",
       "      <td>-2.0</td>\n",
       "      <td>-2.0</td>\n",
       "      <td>-2.0</td>\n",
       "      <td>-2.0</td>\n",
       "      <td>...</td>\n",
       "      <td>3184.0</td>\n",
       "      <td>390.0</td>\n",
       "      <td>390.0</td>\n",
       "      <td>10000.0</td>\n",
       "      <td>800.0</td>\n",
       "      <td>3184.0</td>\n",
       "      <td>390.0</td>\n",
       "      <td>390.0</td>\n",
       "      <td>6617.0</td>\n",
       "      <td>0</td>\n",
       "    </tr>\n",
       "  </tbody>\n",
       "</table>\n",
       "<p>10 rows × 24 columns</p>\n",
       "</div>"
      ],
      "text/plain": [
       "      limit_balance  sex  education_level  marital_status   age  pay_0  pay_2  \\\n",
       "2955       360000.0    2                2               2  26.0   -1.0   -1.0   \n",
       "2956       100000.0    1                3               1  40.0    0.0    0.0   \n",
       "2957        30000.0    2                3               1  48.0    1.0   -1.0   \n",
       "2958        80000.0    2                3               1  39.0   -1.0   -1.0   \n",
       "2959        20000.0    1                3               2  26.0   -1.0   -1.0   \n",
       "2960        80000.0    2                3               2  28.0   -1.0   -1.0   \n",
       "2961        50000.0    2                3               1  51.0   -1.0   -1.0   \n",
       "2962       450000.0    2                2               1  38.0   -2.0   -2.0   \n",
       "2963        50000.0    2                2               1  44.0   -2.0   -2.0   \n",
       "2964       290000.0    2                2               1  39.0    1.0   -2.0   \n",
       "\n",
       "      pay_3  pay_4  pay_5  ...  bill_amt_4  bill_amt_5  bill_amt_6  pay_amt_1  \\\n",
       "2955   -1.0   -1.0   -2.0  ...         0.0         0.0         0.0      463.0   \n",
       "2956   -1.0   -1.0   -2.0  ...         0.0         0.0         0.0     2000.0   \n",
       "2957   -1.0   -2.0   -2.0  ...         0.0         0.0         0.0      200.0   \n",
       "2958   -1.0   -1.0   -2.0  ...         0.0         0.0      5000.0     5000.0   \n",
       "2959   -1.0   -2.0   -2.0  ...         0.0         0.0         0.0     1560.0   \n",
       "2960   -1.0   -2.0   -2.0  ...         0.0         0.0         0.0     2800.0   \n",
       "2961   -1.0   -1.0   -2.0  ...         0.0         0.0         0.0      300.0   \n",
       "2962   -2.0   -2.0   -2.0  ...       390.0       390.0       390.0      390.0   \n",
       "2963   -2.0   -2.0   -2.0  ...       390.0       390.0         0.0      390.0   \n",
       "2964   -2.0   -2.0   -2.0  ...      3184.0       390.0       390.0    10000.0   \n",
       "\n",
       "      pay_amt_2  pay_amt_3  pay_amt_4  pay_amt_5  pay_amt_6  \\\n",
       "2955     2500.0        0.0        0.0        0.0        0.0   \n",
       "2956     2377.0    40000.0        0.0        0.0        0.0   \n",
       "2957        0.0        0.0        0.0        0.0        0.0   \n",
       "2958     5000.0        0.0     5000.0     5000.0      470.0   \n",
       "2959        0.0        0.0        0.0        0.0        0.0   \n",
       "2960        0.0        0.0        0.0        0.0        0.0   \n",
       "2961     5880.0        0.0        0.0        0.0        0.0   \n",
       "2962      780.0      390.0      390.0      390.0      390.0   \n",
       "2963      390.0      390.0      390.0        0.0      780.0   \n",
       "2964      800.0     3184.0      390.0      390.0     6617.0   \n",
       "\n",
       "      default_payment_next_month  \n",
       "2955                           0  \n",
       "2956                           0  \n",
       "2957                           0  \n",
       "2958                           0  \n",
       "2959                           0  \n",
       "2960                           0  \n",
       "2961                           1  \n",
       "2962                           1  \n",
       "2963                           0  \n",
       "2964                           0  \n",
       "\n",
       "[10 rows x 24 columns]"
      ]
     },
     "execution_count": 73,
     "metadata": {},
     "output_type": "execute_result"
    }
   ],
   "source": [
    "#menampilkan 10 data terbawah\n",
    "df.tail(10)"
   ]
  },
  {
   "cell_type": "markdown",
   "metadata": {},
   "source": [
    "# v. Exploratory Data Analysis (EDA)"
   ]
  },
  {
   "cell_type": "code",
   "execution_count": 74,
   "metadata": {},
   "outputs": [
    {
     "name": "stdout",
     "output_type": "stream",
     "text": [
      "<class 'pandas.core.frame.DataFrame'>\n",
      "RangeIndex: 2965 entries, 0 to 2964\n",
      "Data columns (total 24 columns):\n",
      " #   Column                      Non-Null Count  Dtype  \n",
      "---  ------                      --------------  -----  \n",
      " 0   limit_balance               2965 non-null   float64\n",
      " 1   sex                         2965 non-null   int64  \n",
      " 2   education_level             2965 non-null   int64  \n",
      " 3   marital_status              2965 non-null   int64  \n",
      " 4   age                         2965 non-null   float64\n",
      " 5   pay_0                       2965 non-null   float64\n",
      " 6   pay_2                       2965 non-null   float64\n",
      " 7   pay_3                       2965 non-null   float64\n",
      " 8   pay_4                       2965 non-null   float64\n",
      " 9   pay_5                       2965 non-null   float64\n",
      " 10  pay_6                       2965 non-null   float64\n",
      " 11  bill_amt_1                  2965 non-null   float64\n",
      " 12  bill_amt_2                  2965 non-null   float64\n",
      " 13  bill_amt_3                  2965 non-null   float64\n",
      " 14  bill_amt_4                  2965 non-null   float64\n",
      " 15  bill_amt_5                  2965 non-null   float64\n",
      " 16  bill_amt_6                  2965 non-null   float64\n",
      " 17  pay_amt_1                   2965 non-null   float64\n",
      " 18  pay_amt_2                   2965 non-null   float64\n",
      " 19  pay_amt_3                   2965 non-null   float64\n",
      " 20  pay_amt_4                   2965 non-null   float64\n",
      " 21  pay_amt_5                   2965 non-null   float64\n",
      " 22  pay_amt_6                   2965 non-null   float64\n",
      " 23  default_payment_next_month  2965 non-null   int64  \n",
      "dtypes: float64(20), int64(4)\n",
      "memory usage: 556.1 KB\n"
     ]
    }
   ],
   "source": [
    "#menampilkan detail kolom\n",
    "df.info()"
   ]
  },
  {
   "cell_type": "code",
   "execution_count": 75,
   "metadata": {},
   "outputs": [
    {
     "data": {
      "text/plain": [
       "limit_balance                 0\n",
       "sex                           0\n",
       "education_level               0\n",
       "marital_status                0\n",
       "age                           0\n",
       "pay_0                         0\n",
       "pay_2                         0\n",
       "pay_3                         0\n",
       "pay_4                         0\n",
       "pay_5                         0\n",
       "pay_6                         0\n",
       "bill_amt_1                    0\n",
       "bill_amt_2                    0\n",
       "bill_amt_3                    0\n",
       "bill_amt_4                    0\n",
       "bill_amt_5                    0\n",
       "bill_amt_6                    0\n",
       "pay_amt_1                     0\n",
       "pay_amt_2                     0\n",
       "pay_amt_3                     0\n",
       "pay_amt_4                     0\n",
       "pay_amt_5                     0\n",
       "pay_amt_6                     0\n",
       "default_payment_next_month    0\n",
       "dtype: int64"
      ]
     },
     "execution_count": 75,
     "metadata": {},
     "output_type": "execute_result"
    }
   ],
   "source": [
    "#mencek apakah ada data yang missing value\n",
    "df.isnull().sum()"
   ]
  },
  {
   "cell_type": "code",
   "execution_count": 76,
   "metadata": {},
   "outputs": [],
   "source": [
    "#merename kolom agar lebih singkat dan sesuai urutan\n",
    "df.rename(columns={'default_payment_next_month':'def_payment'}, inplace=True)\n",
    "df.rename(columns={'pay_0':'pay_1'}, inplace=True)"
   ]
  },
  {
   "cell_type": "code",
   "execution_count": 77,
   "metadata": {},
   "outputs": [
    {
     "data": {
      "text/html": [
       "<div>\n",
       "<style scoped>\n",
       "    .dataframe tbody tr th:only-of-type {\n",
       "        vertical-align: middle;\n",
       "    }\n",
       "\n",
       "    .dataframe tbody tr th {\n",
       "        vertical-align: top;\n",
       "    }\n",
       "\n",
       "    .dataframe thead th {\n",
       "        text-align: right;\n",
       "    }\n",
       "</style>\n",
       "<table border=\"1\" class=\"dataframe\">\n",
       "  <thead>\n",
       "    <tr style=\"text-align: right;\">\n",
       "      <th></th>\n",
       "      <th>limit_balance</th>\n",
       "      <th>sex</th>\n",
       "      <th>education_level</th>\n",
       "      <th>marital_status</th>\n",
       "      <th>age</th>\n",
       "      <th>pay_1</th>\n",
       "      <th>pay_2</th>\n",
       "      <th>pay_3</th>\n",
       "      <th>pay_4</th>\n",
       "      <th>pay_5</th>\n",
       "      <th>...</th>\n",
       "      <th>bill_amt_4</th>\n",
       "      <th>bill_amt_5</th>\n",
       "      <th>bill_amt_6</th>\n",
       "      <th>pay_amt_1</th>\n",
       "      <th>pay_amt_2</th>\n",
       "      <th>pay_amt_3</th>\n",
       "      <th>pay_amt_4</th>\n",
       "      <th>pay_amt_5</th>\n",
       "      <th>pay_amt_6</th>\n",
       "      <th>def_payment</th>\n",
       "    </tr>\n",
       "  </thead>\n",
       "  <tbody>\n",
       "    <tr>\n",
       "      <th>2806</th>\n",
       "      <td>200000.0</td>\n",
       "      <td>2</td>\n",
       "      <td>1</td>\n",
       "      <td>1</td>\n",
       "      <td>34.0</td>\n",
       "      <td>1.0</td>\n",
       "      <td>-2.0</td>\n",
       "      <td>-2.0</td>\n",
       "      <td>-2.0</td>\n",
       "      <td>-2.0</td>\n",
       "      <td>...</td>\n",
       "      <td>0.0</td>\n",
       "      <td>0.0</td>\n",
       "      <td>0.0</td>\n",
       "      <td>0.0</td>\n",
       "      <td>0.0</td>\n",
       "      <td>0.0</td>\n",
       "      <td>0.0</td>\n",
       "      <td>0.0</td>\n",
       "      <td>0.0</td>\n",
       "      <td>0</td>\n",
       "    </tr>\n",
       "    <tr>\n",
       "      <th>2815</th>\n",
       "      <td>200000.0</td>\n",
       "      <td>2</td>\n",
       "      <td>1</td>\n",
       "      <td>1</td>\n",
       "      <td>34.0</td>\n",
       "      <td>1.0</td>\n",
       "      <td>-2.0</td>\n",
       "      <td>-2.0</td>\n",
       "      <td>-2.0</td>\n",
       "      <td>-2.0</td>\n",
       "      <td>...</td>\n",
       "      <td>0.0</td>\n",
       "      <td>0.0</td>\n",
       "      <td>0.0</td>\n",
       "      <td>0.0</td>\n",
       "      <td>0.0</td>\n",
       "      <td>0.0</td>\n",
       "      <td>0.0</td>\n",
       "      <td>0.0</td>\n",
       "      <td>0.0</td>\n",
       "      <td>0</td>\n",
       "    </tr>\n",
       "  </tbody>\n",
       "</table>\n",
       "<p>2 rows × 24 columns</p>\n",
       "</div>"
      ],
      "text/plain": [
       "      limit_balance  sex  education_level  marital_status   age  pay_1  pay_2  \\\n",
       "2806       200000.0    2                1               1  34.0    1.0   -2.0   \n",
       "2815       200000.0    2                1               1  34.0    1.0   -2.0   \n",
       "\n",
       "      pay_3  pay_4  pay_5  ...  bill_amt_4  bill_amt_5  bill_amt_6  pay_amt_1  \\\n",
       "2806   -2.0   -2.0   -2.0  ...         0.0         0.0         0.0        0.0   \n",
       "2815   -2.0   -2.0   -2.0  ...         0.0         0.0         0.0        0.0   \n",
       "\n",
       "      pay_amt_2  pay_amt_3  pay_amt_4  pay_amt_5  pay_amt_6  def_payment  \n",
       "2806        0.0        0.0        0.0        0.0        0.0            0  \n",
       "2815        0.0        0.0        0.0        0.0        0.0            0  \n",
       "\n",
       "[2 rows x 24 columns]"
      ]
     },
     "execution_count": 77,
     "metadata": {},
     "output_type": "execute_result"
    }
   ],
   "source": [
    "#mencheck duplikasi data \n",
    "df[df.duplicated(keep=False)]"
   ]
  },
  {
   "cell_type": "code",
   "execution_count": 78,
   "metadata": {},
   "outputs": [],
   "source": [
    "#menremove index yang double\n",
    "index_to_remove = 2806\n",
    "df1 = df.drop(index_to_remove)"
   ]
  },
  {
   "cell_type": "markdown",
   "metadata": {},
   "source": [
    "## Business Knowledge"
   ]
  },
  {
   "cell_type": "code",
   "execution_count": 79,
   "metadata": {},
   "outputs": [
    {
     "data": {
      "image/png": "[encoded data removed]",
      "text/plain": [
       "<Figure size 640x480 with 1 Axes>"
      ]
     },
     "metadata": {},
     "output_type": "display_data"
    }
   ],
   "source": [
    "#membuat barplot menampilkan presentase orang yang bisa membayar atau tidak\n",
    "count_data = df1['def_payment'].value_counts()\n",
    "\n",
    "total_data = len(df1)\n",
    "\n",
    "percentage_data = (count_data / total_data) * 100\n",
    "\n",
    "sns.barplot(x=percentage_data.index, y=percentage_data.values)\n",
    "\n",
    "plt.title('Presentasi Persentase Def Payment')\n",
    "plt.xlabel('def_payment')\n",
    "plt.ylabel('Persentase (%)')\n",
    "\n",
    "for i in range(len(percentage_data)):\n",
    "    plt.text(i, percentage_data[i], f'{percentage_data[i]:.2f}%', ha='center', va='bottom')\n",
    "\n",
    "plt.show()\n"
   ]
  },
  {
   "cell_type": "markdown",
   "metadata": {},
   "source": [
    "Hasil : Kita bisa melihat bahwa 78.58% bisa bisa membayar dan 21.42% tidak bisa membayar"
   ]
  },
  {
   "cell_type": "code",
   "execution_count": 80,
   "metadata": {},
   "outputs": [
    {
     "data": {
      "image/png": "[encoded data removed]",
      "text/plain": [
       "<Figure size 600x600 with 1 Axes>"
      ]
     },
     "metadata": {},
     "output_type": "display_data"
    }
   ],
   "source": [
    "def_count = (df1.sex.value_counts(normalize=True)*100)\n",
    "def_count.plot.bar(figsize=(6,6))\n",
    "plt.xticks(fontsize=12, rotation=0)\n",
    "plt.yticks(fontsize=12)\n",
    "plt.title(\"Persentase dari Gender\", fontsize=15)\n",
    "for x,y in zip([0,1],def_count):\n",
    "    plt.text(x, y, '{:.2f}%'.format(y), fontsize=12)  # Memformat y menjadi dua angka desimal\n",
    "plt.show()\n"
   ]
  },
  {
   "cell_type": "markdown",
   "metadata": {},
   "source": [
    "Hasil : Bisa dilihat bahwa terdapat 39.24% di laki-laki=1 dan 60.76% didominasi oleh perempuan=2"
   ]
  },
  {
   "cell_type": "code",
   "execution_count": 82,
   "metadata": {},
   "outputs": [
    {
     "data": {
      "image/png": "[encoded data removed]",
      "text/plain": [
       "<Figure size 640x480 with 1 Axes>"
      ]
     },
     "metadata": {},
     "output_type": "display_data"
    }
   ],
   "source": [
    "plt.subplot(1, 2, 2)\n",
    "sns.histplot(df1['age'], kde=True)\n",
    "plt.title('Distribution of Age')\n",
    "\n",
    "plt.show()"
   ]
  },
  {
   "cell_type": "markdown",
   "metadata": {},
   "source": [
    "Hasil : Bisa dilihat bahwa persebaran umur dari umur 20 sampai 50\n",
    "Untuk Meningkatkan jumlah user yang bisa bayar ada baiknya untuk penagihan bisa dilakukan ditanggal gajian sekitar 25-31 pada saat gajian karena pada saat tanggal tersebut uang mereka jumlahnya banyak jadi bisa membayar "
   ]
  },
  {
   "cell_type": "markdown",
   "metadata": {},
   "source": [
    "## Cek Kolerasi"
   ]
  },
  {
   "cell_type": "code",
   "execution_count": 83,
   "metadata": {},
   "outputs": [
    {
     "data": {
      "image/png": "[encoded data removed]",
      "text/plain": [
       "<Figure size 1000x600 with 2 Axes>"
      ]
     },
     "metadata": {},
     "output_type": "display_data"
    }
   ],
   "source": [
    "#Menghitung kolerasi def_payment dengan 'pay_1', 'pay_2', 'pay_3', 'pay_4','pay_5','pay_6'\n",
    "#saya menggunakan kendall karena setelah dicek kembali bahwa datanya merupakan kategorical\n",
    "billcol = df1[['pay_1', 'pay_2', 'pay_3', 'pay_4','pay_5','pay_6','def_payment']]\n",
    "\n",
    "kendall_corr_matrix = billcol.corr(method=lambda x, y: kendalltau(x, y).correlation)\n",
    "\n",
    "plt.figure(figsize=(10, 6))\n",
    "sns.heatmap(kendall_corr_matrix, annot=True, cmap='coolwarm', center=0)\n",
    "plt.title('Kendall tau Correlation Heatmap Default Payment Method with Bill Payment')\n",
    "plt.show()"
   ]
  },
  {
   "cell_type": "markdown",
   "metadata": {},
   "source": [
    "Hasil : Dari heatmap bisa dilihat bahwa 'pay_1', 'pay_2', 'pay_3', 'pay_4','pay_5','pay_6' memiliki kolerasi dengan kolom def_payment sehingga kolom-kolom tersebut akan dimasukkan ke dalam feature selection"
   ]
  },
  {
   "cell_type": "code",
   "execution_count": 84,
   "metadata": {},
   "outputs": [
    {
     "data": {
      "image/png": "[encoded data removed]",
      "text/plain": [
       "<Figure size 1000x600 with 2 Axes>"
      ]
     },
     "metadata": {},
     "output_type": "display_data"
    }
   ],
   "source": [
    "#Menghitung kolerasi def_payment dengan 'bill_amt_1', 'bill_amt_2', 'bill_amt_3', 'bill_amt_4','bill_amt_5','bill_amt_6'\n",
    "repaymentcol = df1[['bill_amt_1', 'bill_amt_2', 'bill_amt_3', 'bill_amt_4','bill_amt_5','bill_amt_6','def_payment']]\n",
    "\n",
    "plt.figure(figsize=(10, 6))\n",
    "sns.heatmap(repaymentcol.corr(), annot=True, cmap='coolwarm', center=0)\n",
    "plt.title('Correlation Heatmap Default Payment Method with Bill Payment')\n",
    "plt.show()"
   ]
  },
  {
   "cell_type": "markdown",
   "metadata": {},
   "source": [
    "Hasil : Dari heatmap bisa dilihat bahwa tidak ada kolom yang memiliki kolerasi dengan kolom def_payment sehingga kolom-kolom tersebut tidak akan dimasukkan ke dalam feature selection"
   ]
  },
  {
   "cell_type": "code",
   "execution_count": 85,
   "metadata": {},
   "outputs": [
    {
     "data": {
      "image/png": "[encoded data removed]",
      "text/plain": [
       "<Figure size 1000x600 with 2 Axes>"
      ]
     },
     "metadata": {},
     "output_type": "display_data"
    }
   ],
   "source": [
    "#Menghitung kolerasi def_payment dengan 'pay_amt_1', 'pay_amt_2', 'pay_amt_3', 'pay_amt_4','pay_amt_5','pay_amt_5','limit_balance'\n",
    "pay_amt_corr = df1[['pay_amt_1', 'pay_amt_2', 'pay_amt_3', 'pay_amt_4','pay_amt_5','pay_amt_5','limit_balance','def_payment']]\n",
    "\n",
    "plt.figure(figsize=(10, 6))\n",
    "sns.heatmap(pay_amt_corr.corr(), annot=True, cmap='coolwarm', center=0)\n",
    "plt.title('Correlation Heatmap Default Payment Method with Bill Payment')\n",
    "plt.show()"
   ]
  },
  {
   "cell_type": "markdown",
   "metadata": {},
   "source": [
    "Hasil : Dari heatmap bisa dilihat bahwa 'limit_balance' memiliki kolerasi dengan kolom def_payment sehingga kolom-kolom tersebut akan dimasukkan ke dalam feature selection"
   ]
  },
  {
   "cell_type": "code",
   "execution_count": 86,
   "metadata": {},
   "outputs": [
    {
     "data": {
      "image/png": "[encoded data removed]",
      "text/plain": [
       "<Figure size 1000x600 with 2 Axes>"
      ]
     },
     "metadata": {},
     "output_type": "display_data"
    }
   ],
   "source": [
    "#Menghitung kolerasi def_payment dengan 'sex', 'education_level', 'marital_status', 'age'\n",
    "#saya menggunakan kendall karena setelah dicek kembali bahwa datanya merupakan kategorical\n",
    "status_corr = df1[['sex', 'education_level', 'marital_status', 'age', 'def_payment']]\n",
    "\n",
    "kendall_corr_matrix = status_corr.corr(method=lambda x, y: kendalltau(x, y).correlation)\n",
    "\n",
    "plt.figure(figsize=(10, 6))\n",
    "sns.heatmap(kendall_corr_matrix, annot=True, cmap='coolwarm', center=0)\n",
    "plt.title('Kendall tau Correlation Heatmap Default Payment Method with Bill Payment')\n",
    "plt.show()"
   ]
  },
  {
   "cell_type": "markdown",
   "metadata": {},
   "source": [
    "Hasil : Dari heatmap bisa dilihat bahwa tidak ada kolom yang memiliki kolerasi dengan kolom def_payment sehingga kolom-kolom tersebut tidak akan dimasukkan ke dalam feature selection"
   ]
  },
  {
   "cell_type": "markdown",
   "metadata": {},
   "source": [
    "### Feature Selection"
   ]
  },
  {
   "cell_type": "code",
   "execution_count": 87,
   "metadata": {},
   "outputs": [],
   "source": [
    "#membuat variabel baru sebgai feature selection\n",
    "df_fix = df1[['limit_balance','pay_1', 'pay_2', 'pay_3', 'pay_4','pay_5','pay_6','def_payment']]"
   ]
  },
  {
   "cell_type": "code",
   "execution_count": 88,
   "metadata": {},
   "outputs": [
    {
     "data": {
      "text/html": [
       "<div>\n",
       "<style scoped>\n",
       "    .dataframe tbody tr th:only-of-type {\n",
       "        vertical-align: middle;\n",
       "    }\n",
       "\n",
       "    .dataframe tbody tr th {\n",
       "        vertical-align: top;\n",
       "    }\n",
       "\n",
       "    .dataframe thead th {\n",
       "        text-align: right;\n",
       "    }\n",
       "</style>\n",
       "<table border=\"1\" class=\"dataframe\">\n",
       "  <thead>\n",
       "    <tr style=\"text-align: right;\">\n",
       "      <th></th>\n",
       "      <th>limit_balance</th>\n",
       "      <th>pay_1</th>\n",
       "      <th>pay_2</th>\n",
       "      <th>pay_3</th>\n",
       "      <th>pay_4</th>\n",
       "      <th>pay_5</th>\n",
       "      <th>pay_6</th>\n",
       "      <th>def_payment</th>\n",
       "    </tr>\n",
       "  </thead>\n",
       "  <tbody>\n",
       "    <tr>\n",
       "      <th>0</th>\n",
       "      <td>80000.0</td>\n",
       "      <td>0.0</td>\n",
       "      <td>0.0</td>\n",
       "      <td>0.0</td>\n",
       "      <td>0.0</td>\n",
       "      <td>0.0</td>\n",
       "      <td>0.0</td>\n",
       "      <td>1</td>\n",
       "    </tr>\n",
       "    <tr>\n",
       "      <th>1</th>\n",
       "      <td>200000.0</td>\n",
       "      <td>0.0</td>\n",
       "      <td>0.0</td>\n",
       "      <td>0.0</td>\n",
       "      <td>0.0</td>\n",
       "      <td>0.0</td>\n",
       "      <td>0.0</td>\n",
       "      <td>0</td>\n",
       "    </tr>\n",
       "    <tr>\n",
       "      <th>2</th>\n",
       "      <td>20000.0</td>\n",
       "      <td>0.0</td>\n",
       "      <td>0.0</td>\n",
       "      <td>0.0</td>\n",
       "      <td>0.0</td>\n",
       "      <td>0.0</td>\n",
       "      <td>0.0</td>\n",
       "      <td>1</td>\n",
       "    </tr>\n",
       "    <tr>\n",
       "      <th>3</th>\n",
       "      <td>260000.0</td>\n",
       "      <td>0.0</td>\n",
       "      <td>0.0</td>\n",
       "      <td>0.0</td>\n",
       "      <td>0.0</td>\n",
       "      <td>0.0</td>\n",
       "      <td>0.0</td>\n",
       "      <td>0</td>\n",
       "    </tr>\n",
       "    <tr>\n",
       "      <th>4</th>\n",
       "      <td>150000.0</td>\n",
       "      <td>0.0</td>\n",
       "      <td>0.0</td>\n",
       "      <td>0.0</td>\n",
       "      <td>-1.0</td>\n",
       "      <td>0.0</td>\n",
       "      <td>0.0</td>\n",
       "      <td>0</td>\n",
       "    </tr>\n",
       "    <tr>\n",
       "      <th>...</th>\n",
       "      <td>...</td>\n",
       "      <td>...</td>\n",
       "      <td>...</td>\n",
       "      <td>...</td>\n",
       "      <td>...</td>\n",
       "      <td>...</td>\n",
       "      <td>...</td>\n",
       "      <td>...</td>\n",
       "    </tr>\n",
       "    <tr>\n",
       "      <th>2960</th>\n",
       "      <td>80000.0</td>\n",
       "      <td>-1.0</td>\n",
       "      <td>-1.0</td>\n",
       "      <td>-1.0</td>\n",
       "      <td>-2.0</td>\n",
       "      <td>-2.0</td>\n",
       "      <td>-2.0</td>\n",
       "      <td>0</td>\n",
       "    </tr>\n",
       "    <tr>\n",
       "      <th>2961</th>\n",
       "      <td>50000.0</td>\n",
       "      <td>-1.0</td>\n",
       "      <td>-1.0</td>\n",
       "      <td>-1.0</td>\n",
       "      <td>-1.0</td>\n",
       "      <td>-2.0</td>\n",
       "      <td>-2.0</td>\n",
       "      <td>1</td>\n",
       "    </tr>\n",
       "    <tr>\n",
       "      <th>2962</th>\n",
       "      <td>450000.0</td>\n",
       "      <td>-2.0</td>\n",
       "      <td>-2.0</td>\n",
       "      <td>-2.0</td>\n",
       "      <td>-2.0</td>\n",
       "      <td>-2.0</td>\n",
       "      <td>-2.0</td>\n",
       "      <td>1</td>\n",
       "    </tr>\n",
       "    <tr>\n",
       "      <th>2963</th>\n",
       "      <td>50000.0</td>\n",
       "      <td>-2.0</td>\n",
       "      <td>-2.0</td>\n",
       "      <td>-2.0</td>\n",
       "      <td>-2.0</td>\n",
       "      <td>-2.0</td>\n",
       "      <td>-2.0</td>\n",
       "      <td>0</td>\n",
       "    </tr>\n",
       "    <tr>\n",
       "      <th>2964</th>\n",
       "      <td>290000.0</td>\n",
       "      <td>1.0</td>\n",
       "      <td>-2.0</td>\n",
       "      <td>-2.0</td>\n",
       "      <td>-2.0</td>\n",
       "      <td>-2.0</td>\n",
       "      <td>-2.0</td>\n",
       "      <td>0</td>\n",
       "    </tr>\n",
       "  </tbody>\n",
       "</table>\n",
       "<p>2964 rows × 8 columns</p>\n",
       "</div>"
      ],
      "text/plain": [
       "      limit_balance  pay_1  pay_2  pay_3  pay_4  pay_5  pay_6  def_payment\n",
       "0           80000.0    0.0    0.0    0.0    0.0    0.0    0.0            1\n",
       "1          200000.0    0.0    0.0    0.0    0.0    0.0    0.0            0\n",
       "2           20000.0    0.0    0.0    0.0    0.0    0.0    0.0            1\n",
       "3          260000.0    0.0    0.0    0.0    0.0    0.0    0.0            0\n",
       "4          150000.0    0.0    0.0    0.0   -1.0    0.0    0.0            0\n",
       "...             ...    ...    ...    ...    ...    ...    ...          ...\n",
       "2960        80000.0   -1.0   -1.0   -1.0   -2.0   -2.0   -2.0            0\n",
       "2961        50000.0   -1.0   -1.0   -1.0   -1.0   -2.0   -2.0            1\n",
       "2962       450000.0   -2.0   -2.0   -2.0   -2.0   -2.0   -2.0            1\n",
       "2963        50000.0   -2.0   -2.0   -2.0   -2.0   -2.0   -2.0            0\n",
       "2964       290000.0    1.0   -2.0   -2.0   -2.0   -2.0   -2.0            0\n",
       "\n",
       "[2964 rows x 8 columns]"
      ]
     },
     "execution_count": 88,
     "metadata": {},
     "output_type": "execute_result"
    }
   ],
   "source": [
    "#memanggil data yang sudah di features selection\n",
    "df_fix"
   ]
  },
  {
   "cell_type": "markdown",
   "metadata": {},
   "source": [
    "## Cardinality"
   ]
  },
  {
   "cell_type": "code",
   "execution_count": 89,
   "metadata": {},
   "outputs": [
    {
     "name": "stdout",
     "output_type": "stream",
     "text": [
      "cardinality kolom pay_1: 11\n",
      "cardinality kolom pay_2: 10\n",
      "cardinality kolom pay_3: 9\n",
      "cardinality kolom pay_4: 10\n",
      "cardinality kolom pay_5: 9\n",
      "cardinality kolom pay_6: 8\n"
     ]
    }
   ],
   "source": [
    "#menghitung cardinality\n",
    "cols_cat= df_fix[['pay_1','pay_2','pay_3','pay_4','pay_5','pay_6']]\n",
    "\n",
    "for i in cols_cat.columns:\n",
    "    print(f'cardinality kolom {i}:', cols_cat[i].nunique())"
   ]
  },
  {
   "cell_type": "markdown",
   "metadata": {},
   "source": [
    "Hasil : Setelah dicek bahwa cardinality pada kolom 'pay_1','pay_2','pay_3','pay_4','pay_5','pay_6' paling tinggi 11 dan masih dalam batas normal menurut saya sehingga tidak perlu di handling"
   ]
  },
  {
   "cell_type": "markdown",
   "metadata": {},
   "source": [
    "# vi. Feature Engineering"
   ]
  },
  {
   "cell_type": "code",
   "execution_count": 90,
   "metadata": {},
   "outputs": [],
   "source": [
    "#membagi data yang sudah di future selection menjadi x dan y dengan y yaitu kolom target def_payment\n",
    "X= df_fix.drop('def_payment', axis=1) #fitur\n",
    "y= df_fix['def_payment'] #target"
   ]
  },
  {
   "cell_type": "code",
   "execution_count": 91,
   "metadata": {},
   "outputs": [
    {
     "name": "stdout",
     "output_type": "stream",
     "text": [
      "Train Size :  (2371, 7)\n",
      "Test Size  :  (593, 7)\n",
      "Train Size :  (2371,)\n",
      "Test Size  :  (593,)\n"
     ]
    }
   ],
   "source": [
    "#membagi data menjadi X_train, X_test, y_train, y_test\n",
    "X_train, X_test, y_train, y_test = train_test_split(X, y, test_size=0.2, random_state=3,stratify=y)\n",
    "\n",
    "print('Train Size : ', X_train.shape)\n",
    "print('Test Size  : ', X_test.shape)\n",
    "print('Train Size : ', y_train.shape)\n",
    "print('Test Size  : ', y_test.shape)"
   ]
  },
  {
   "cell_type": "markdown",
   "metadata": {},
   "source": [
    "## Handling Outlier"
   ]
  },
  {
   "cell_type": "code",
   "execution_count": 92,
   "metadata": {},
   "outputs": [
    {
     "name": "stdout",
     "output_type": "stream",
     "text": [
      "Skewness dari distance :0.9529337693438512\n",
      "Skewness dari distance :1.1988766501981816\n"
     ]
    }
   ],
   "source": [
    "#menghitung persebaran jenis data dengan metode skewness\n",
    "print(f\"Skewness dari distance :{X_train['limit_balance'].skew()}\")\n",
    "print(f\"Skewness dari distance :{X_test['limit_balance'].skew()}\")"
   ]
  },
  {
   "cell_type": "code",
   "execution_count": null,
   "metadata": {},
   "outputs": [],
   "source": []
  },
  {
   "cell_type": "code",
   "execution_count": 93,
   "metadata": {},
   "outputs": [],
   "source": [
    "#menghapus outlier pada kolom limit_balance di X train dan X test dengan tukey karena x test skewnessnya lebih dari 1 dan x train skewnessnya mendekati 1 dan outlier kurangd air 5%\n",
    "Trimmer_price = OutlierTrimmer(capping_method='iqr',\n",
    "                             tail='both',\n",
    "                             fold=1.5,\n",
    "                             variables=['limit_balance'])\n",
    "\n",
    "X_train_trimmer = Trimmer_price.fit_transform(X_train)\n",
    "X_test_trimmer = Trimmer_price.transform(X_test)"
   ]
  },
  {
   "cell_type": "markdown",
   "metadata": {},
   "source": [
    "## Handling Missing Value"
   ]
  },
  {
   "cell_type": "code",
   "execution_count": 94,
   "metadata": {},
   "outputs": [
    {
     "data": {
      "text/plain": [
       "limit_balance    0\n",
       "pay_1            0\n",
       "pay_2            0\n",
       "pay_3            0\n",
       "pay_4            0\n",
       "pay_5            0\n",
       "pay_6            0\n",
       "dtype: int64"
      ]
     },
     "execution_count": 94,
     "metadata": {},
     "output_type": "execute_result"
    }
   ],
   "source": [
    "#ketika dicek tidak ada missing value pada x train\n",
    "X_train.isnull().sum()"
   ]
  },
  {
   "cell_type": "code",
   "execution_count": 95,
   "metadata": {},
   "outputs": [
    {
     "data": {
      "text/plain": [
       "limit_balance    0\n",
       "pay_1            0\n",
       "pay_2            0\n",
       "pay_3            0\n",
       "pay_4            0\n",
       "pay_5            0\n",
       "pay_6            0\n",
       "dtype: int64"
      ]
     },
     "execution_count": 95,
     "metadata": {},
     "output_type": "execute_result"
    }
   ],
   "source": [
    "#ketika dicek tidak ada missing value pada x test\n",
    "X_test.isnull().sum()"
   ]
  },
  {
   "cell_type": "markdown",
   "metadata": {},
   "source": [
    "## Scaling"
   ]
  },
  {
   "cell_type": "code",
   "execution_count": 96,
   "metadata": {},
   "outputs": [],
   "source": [
    "#melakukan scalling dengan menggunakan standard scaller\n",
    "scaler = MinMaxScaler()\n",
    "model = scaler.fit(X_train_trimmer[['limit_balance']])\n",
    "train_scaller = model.transform(X_train_trimmer[['limit_balance']])\n",
    "test_scaller = scaler.transform(X_test_trimmer[['limit_balance']])"
   ]
  },
  {
   "cell_type": "code",
   "execution_count": 97,
   "metadata": {},
   "outputs": [
    {
     "data": {
      "text/plain": [
       "array([[0.58],\n",
       "       [0.5 ],\n",
       "       [0.56],\n",
       "       ...,\n",
       "       [0.24],\n",
       "       [0.14],\n",
       "       [0.24]])"
      ]
     },
     "execution_count": 97,
     "metadata": {},
     "output_type": "execute_result"
    }
   ],
   "source": [
    "#memanggil kolom limit balanace di train yang sudah di scaling\n",
    "train_scaller"
   ]
  },
  {
   "cell_type": "code",
   "execution_count": 98,
   "metadata": {},
   "outputs": [
    {
     "data": {
      "text/plain": [
       "array([[0.12],\n",
       "       [0.08],\n",
       "       [0.4 ],\n",
       "       [0.14],\n",
       "       [0.22],\n",
       "       [0.22],\n",
       "       [0.22],\n",
       "       [0.08],\n",
       "       [0.7 ],\n",
       "       [0.7 ],\n",
       "       [0.68],\n",
       "       [0.08],\n",
       "       [0.08],\n",
       "       [0.46],\n",
       "       [0.54],\n",
       "       [0.08],\n",
       "       [0.02],\n",
       "       [0.24],\n",
       "       [0.56],\n",
       "       [0.16],\n",
       "       [0.08],\n",
       "       [0.18],\n",
       "       [0.08],\n",
       "       [0.38],\n",
       "       [0.54],\n",
       "       [0.24],\n",
       "       [0.08],\n",
       "       [0.26],\n",
       "       [0.8 ],\n",
       "       [0.36],\n",
       "       [0.1 ],\n",
       "       [0.36],\n",
       "       [0.7 ],\n",
       "       [0.5 ],\n",
       "       [0.38],\n",
       "       [0.26],\n",
       "       [0.38],\n",
       "       [0.34],\n",
       "       [0.42],\n",
       "       [0.58],\n",
       "       [0.08],\n",
       "       [0.04],\n",
       "       [0.06],\n",
       "       [0.66],\n",
       "       [0.08],\n",
       "       [0.7 ],\n",
       "       [0.04],\n",
       "       [0.38],\n",
       "       [0.54],\n",
       "       [0.32],\n",
       "       [0.46],\n",
       "       [0.28],\n",
       "       [0.46],\n",
       "       [0.08],\n",
       "       [0.4 ],\n",
       "       [0.12],\n",
       "       [0.4 ],\n",
       "       [0.14],\n",
       "       [0.48],\n",
       "       [0.5 ],\n",
       "       [0.42],\n",
       "       [0.08],\n",
       "       [0.6 ],\n",
       "       [0.58],\n",
       "       [0.42],\n",
       "       [0.28],\n",
       "       [0.08],\n",
       "       [0.22],\n",
       "       [0.58],\n",
       "       [0.08],\n",
       "       [0.08],\n",
       "       [0.58],\n",
       "       [0.7 ],\n",
       "       [0.04],\n",
       "       [0.02],\n",
       "       [0.02],\n",
       "       [0.98],\n",
       "       [0.74],\n",
       "       [0.22],\n",
       "       [0.4 ],\n",
       "       [0.1 ],\n",
       "       [0.08],\n",
       "       [0.62],\n",
       "       [0.94],\n",
       "       [0.32],\n",
       "       [0.86],\n",
       "       [0.16],\n",
       "       [0.04],\n",
       "       [0.08],\n",
       "       [0.3 ],\n",
       "       [0.38],\n",
       "       [0.68],\n",
       "       [0.6 ],\n",
       "       [0.14],\n",
       "       [0.14],\n",
       "       [0.08],\n",
       "       [0.38],\n",
       "       [0.98],\n",
       "       [0.28],\n",
       "       [0.26],\n",
       "       [0.46],\n",
       "       [0.26],\n",
       "       [0.42],\n",
       "       [0.26],\n",
       "       [0.02],\n",
       "       [0.14],\n",
       "       [0.34],\n",
       "       [0.24],\n",
       "       [0.12],\n",
       "       [0.44],\n",
       "       [0.08],\n",
       "       [0.6 ],\n",
       "       [0.08],\n",
       "       [0.24],\n",
       "       [0.02],\n",
       "       [0.58],\n",
       "       [0.54],\n",
       "       [0.26],\n",
       "       [0.64],\n",
       "       [0.4 ],\n",
       "       [0.22],\n",
       "       [0.18],\n",
       "       [0.04],\n",
       "       [0.02],\n",
       "       [0.58],\n",
       "       [0.72],\n",
       "       [0.04],\n",
       "       [0.38],\n",
       "       [0.02],\n",
       "       [0.5 ],\n",
       "       [0.76],\n",
       "       [0.02],\n",
       "       [0.32],\n",
       "       [0.  ],\n",
       "       [0.08],\n",
       "       [0.68],\n",
       "       [0.34],\n",
       "       [0.28],\n",
       "       [0.26],\n",
       "       [0.18],\n",
       "       [0.08],\n",
       "       [0.02],\n",
       "       [0.5 ],\n",
       "       [0.1 ],\n",
       "       [0.42],\n",
       "       [0.02],\n",
       "       [0.48],\n",
       "       [0.22],\n",
       "       [0.18],\n",
       "       [0.2 ],\n",
       "       [0.18],\n",
       "       [0.02],\n",
       "       [0.18],\n",
       "       [0.08],\n",
       "       [0.32],\n",
       "       [0.4 ],\n",
       "       [0.14],\n",
       "       [0.02],\n",
       "       [0.08],\n",
       "       [0.28],\n",
       "       [0.18],\n",
       "       [0.8 ],\n",
       "       [0.92],\n",
       "       [0.38],\n",
       "       [0.16],\n",
       "       [0.02],\n",
       "       [0.38],\n",
       "       [0.82],\n",
       "       [0.12],\n",
       "       [0.46],\n",
       "       [0.  ],\n",
       "       [0.08],\n",
       "       [0.04],\n",
       "       [0.28],\n",
       "       [0.08],\n",
       "       [0.04],\n",
       "       [0.32],\n",
       "       [0.34],\n",
       "       [0.22],\n",
       "       [0.54],\n",
       "       [0.3 ],\n",
       "       [0.02],\n",
       "       [0.22],\n",
       "       [0.14],\n",
       "       [0.4 ],\n",
       "       [0.14],\n",
       "       [0.32],\n",
       "       [0.84],\n",
       "       [0.08],\n",
       "       [0.06],\n",
       "       [0.62],\n",
       "       [0.78],\n",
       "       [0.38],\n",
       "       [0.04],\n",
       "       [0.12],\n",
       "       [0.08],\n",
       "       [0.02],\n",
       "       [0.34],\n",
       "       [0.26],\n",
       "       [0.5 ],\n",
       "       [0.08],\n",
       "       [0.08],\n",
       "       [0.08],\n",
       "       [0.08],\n",
       "       [0.28],\n",
       "       [0.44],\n",
       "       [0.42],\n",
       "       [0.38],\n",
       "       [0.52],\n",
       "       [0.54],\n",
       "       [0.2 ],\n",
       "       [0.12],\n",
       "       [0.08],\n",
       "       [0.08],\n",
       "       [0.34],\n",
       "       [0.28],\n",
       "       [0.38],\n",
       "       [0.  ],\n",
       "       [0.28],\n",
       "       [0.14],\n",
       "       [0.44],\n",
       "       [0.26],\n",
       "       [0.12],\n",
       "       [0.2 ],\n",
       "       [0.44],\n",
       "       [0.08],\n",
       "       [0.36],\n",
       "       [0.26],\n",
       "       [0.38],\n",
       "       [0.38],\n",
       "       [0.08],\n",
       "       [0.08],\n",
       "       [0.08],\n",
       "       [0.14],\n",
       "       [0.22],\n",
       "       [0.26],\n",
       "       [0.98],\n",
       "       [0.5 ],\n",
       "       [0.52],\n",
       "       [0.02],\n",
       "       [0.18],\n",
       "       [0.58],\n",
       "       [0.28],\n",
       "       [0.38],\n",
       "       [0.96],\n",
       "       [0.04],\n",
       "       [0.42],\n",
       "       [0.22],\n",
       "       [0.48],\n",
       "       [0.4 ],\n",
       "       [0.38],\n",
       "       [0.58],\n",
       "       [0.06],\n",
       "       [0.14],\n",
       "       [0.28],\n",
       "       [0.08],\n",
       "       [0.58],\n",
       "       [0.38],\n",
       "       [0.08],\n",
       "       [0.08],\n",
       "       [0.1 ],\n",
       "       [0.26],\n",
       "       [0.7 ],\n",
       "       [0.02],\n",
       "       [0.04],\n",
       "       [0.1 ],\n",
       "       [0.08],\n",
       "       [0.26],\n",
       "       [0.58],\n",
       "       [0.26],\n",
       "       [0.54],\n",
       "       [0.2 ],\n",
       "       [0.4 ],\n",
       "       [0.38],\n",
       "       [0.44],\n",
       "       [0.3 ],\n",
       "       [0.08],\n",
       "       [0.28],\n",
       "       [0.62],\n",
       "       [0.18],\n",
       "       [0.02],\n",
       "       [0.4 ],\n",
       "       [0.08],\n",
       "       [0.58],\n",
       "       [0.08],\n",
       "       [0.1 ],\n",
       "       [0.18],\n",
       "       [0.5 ],\n",
       "       [0.08],\n",
       "       [0.28],\n",
       "       [0.02],\n",
       "       [0.9 ],\n",
       "       [0.08],\n",
       "       [0.08],\n",
       "       [0.4 ],\n",
       "       [0.4 ],\n",
       "       [0.08],\n",
       "       [0.44],\n",
       "       [0.08],\n",
       "       [0.18],\n",
       "       [0.32],\n",
       "       [0.64],\n",
       "       [0.24],\n",
       "       [0.32],\n",
       "       [0.98],\n",
       "       [0.02],\n",
       "       [0.56],\n",
       "       [0.26],\n",
       "       [0.2 ],\n",
       "       [0.08],\n",
       "       [0.34],\n",
       "       [0.18],\n",
       "       [0.28],\n",
       "       [0.18],\n",
       "       [0.98],\n",
       "       [0.34],\n",
       "       [0.46],\n",
       "       [0.02],\n",
       "       [0.7 ],\n",
       "       [0.04],\n",
       "       [0.34],\n",
       "       [0.34],\n",
       "       [0.12],\n",
       "       [0.28],\n",
       "       [0.4 ],\n",
       "       [0.16],\n",
       "       [0.02],\n",
       "       [0.02],\n",
       "       [0.02],\n",
       "       [0.34],\n",
       "       [0.42],\n",
       "       [0.04],\n",
       "       [0.08],\n",
       "       [0.16],\n",
       "       [0.54],\n",
       "       [0.  ],\n",
       "       [0.66],\n",
       "       [0.42],\n",
       "       [0.64],\n",
       "       [0.14],\n",
       "       [0.08],\n",
       "       [0.62],\n",
       "       [0.04],\n",
       "       [0.34],\n",
       "       [0.32],\n",
       "       [0.04],\n",
       "       [0.12],\n",
       "       [0.1 ],\n",
       "       [0.34],\n",
       "       [1.  ],\n",
       "       [0.08],\n",
       "       [0.98],\n",
       "       [0.1 ],\n",
       "       [0.5 ],\n",
       "       [0.04],\n",
       "       [0.98],\n",
       "       [0.08],\n",
       "       [0.42],\n",
       "       [0.14],\n",
       "       [0.44],\n",
       "       [0.38],\n",
       "       [0.98],\n",
       "       [0.26],\n",
       "       [0.02],\n",
       "       [0.22],\n",
       "       [0.  ],\n",
       "       [0.22],\n",
       "       [0.14],\n",
       "       [0.3 ],\n",
       "       [0.34],\n",
       "       [0.08],\n",
       "       [0.16],\n",
       "       [0.08],\n",
       "       [0.34],\n",
       "       [0.08],\n",
       "       [0.08],\n",
       "       [0.04],\n",
       "       [0.34],\n",
       "       [0.02],\n",
       "       [0.44],\n",
       "       [0.7 ],\n",
       "       [0.08],\n",
       "       [0.02],\n",
       "       [0.18],\n",
       "       [0.02],\n",
       "       [0.08],\n",
       "       [0.24],\n",
       "       [0.14],\n",
       "       [0.3 ],\n",
       "       [0.02],\n",
       "       [0.08],\n",
       "       [0.28],\n",
       "       [0.08],\n",
       "       [0.4 ],\n",
       "       [0.38],\n",
       "       [0.26],\n",
       "       [0.1 ],\n",
       "       [0.38],\n",
       "       [0.08],\n",
       "       [0.08],\n",
       "       [0.16],\n",
       "       [0.08],\n",
       "       [0.18],\n",
       "       [0.76],\n",
       "       [0.04],\n",
       "       [0.4 ],\n",
       "       [0.38],\n",
       "       [0.22],\n",
       "       [0.84],\n",
       "       [0.88],\n",
       "       [0.7 ],\n",
       "       [0.42],\n",
       "       [0.7 ],\n",
       "       [0.1 ],\n",
       "       [0.04],\n",
       "       [0.28],\n",
       "       [0.3 ],\n",
       "       [0.38],\n",
       "       [0.2 ],\n",
       "       [0.08],\n",
       "       [0.4 ],\n",
       "       [0.38],\n",
       "       [0.28],\n",
       "       [0.02],\n",
       "       [0.18],\n",
       "       [0.26],\n",
       "       [0.08],\n",
       "       [0.64],\n",
       "       [0.12],\n",
       "       [0.14],\n",
       "       [0.54],\n",
       "       [0.98],\n",
       "       [0.28],\n",
       "       [0.36],\n",
       "       [0.46],\n",
       "       [0.46],\n",
       "       [0.08],\n",
       "       [0.22],\n",
       "       [0.08],\n",
       "       [0.38],\n",
       "       [0.44],\n",
       "       [0.18],\n",
       "       [0.08],\n",
       "       [0.46],\n",
       "       [0.14],\n",
       "       [0.34],\n",
       "       [0.14],\n",
       "       [0.18],\n",
       "       [0.26],\n",
       "       [0.38],\n",
       "       [0.02],\n",
       "       [0.02],\n",
       "       [0.02],\n",
       "       [0.08],\n",
       "       [0.36],\n",
       "       [0.7 ],\n",
       "       [0.38],\n",
       "       [0.02],\n",
       "       [0.7 ],\n",
       "       [0.38],\n",
       "       [0.5 ],\n",
       "       [0.08],\n",
       "       [0.14],\n",
       "       [0.34],\n",
       "       [0.02],\n",
       "       [0.24],\n",
       "       [0.22],\n",
       "       [0.16],\n",
       "       [0.28],\n",
       "       [0.08],\n",
       "       [0.22],\n",
       "       [0.02],\n",
       "       [0.16],\n",
       "       [0.44],\n",
       "       [0.22],\n",
       "       [0.28],\n",
       "       [0.58],\n",
       "       [0.38],\n",
       "       [0.02],\n",
       "       [0.02],\n",
       "       [0.02],\n",
       "       [0.38],\n",
       "       [0.14],\n",
       "       [0.42],\n",
       "       [0.22],\n",
       "       [0.68],\n",
       "       [0.5 ],\n",
       "       [0.18],\n",
       "       [0.14],\n",
       "       [0.48],\n",
       "       [0.7 ],\n",
       "       [0.28],\n",
       "       [0.04],\n",
       "       [0.08],\n",
       "       [0.12],\n",
       "       [0.14],\n",
       "       [0.9 ],\n",
       "       [0.14],\n",
       "       [0.08],\n",
       "       [0.78],\n",
       "       [0.1 ],\n",
       "       [0.02],\n",
       "       [0.08],\n",
       "       [0.7 ],\n",
       "       [0.38],\n",
       "       [0.34],\n",
       "       [0.02],\n",
       "       [0.08],\n",
       "       [0.08],\n",
       "       [0.28],\n",
       "       [0.24],\n",
       "       [0.06],\n",
       "       [0.02],\n",
       "       [0.38],\n",
       "       [0.44],\n",
       "       [0.38],\n",
       "       [0.82],\n",
       "       [0.14],\n",
       "       [0.86],\n",
       "       [0.04],\n",
       "       [0.4 ],\n",
       "       [0.34],\n",
       "       [0.42],\n",
       "       [0.1 ],\n",
       "       [0.7 ],\n",
       "       [0.56],\n",
       "       [0.58],\n",
       "       [0.4 ],\n",
       "       [0.12],\n",
       "       [0.18],\n",
       "       [0.58],\n",
       "       [0.02],\n",
       "       [0.08],\n",
       "       [0.38],\n",
       "       [0.14],\n",
       "       [0.34],\n",
       "       [0.7 ],\n",
       "       [0.08],\n",
       "       [0.08],\n",
       "       [0.08],\n",
       "       [0.14],\n",
       "       [0.38],\n",
       "       [0.12],\n",
       "       [0.18],\n",
       "       [0.04],\n",
       "       [0.48],\n",
       "       [0.16],\n",
       "       [0.76],\n",
       "       [0.08],\n",
       "       [0.04],\n",
       "       [0.02],\n",
       "       [0.04],\n",
       "       [0.46],\n",
       "       [0.16],\n",
       "       [0.02],\n",
       "       [0.3 ],\n",
       "       [0.38],\n",
       "       [0.18],\n",
       "       [0.98],\n",
       "       [0.34],\n",
       "       [0.42],\n",
       "       [0.76],\n",
       "       [0.38],\n",
       "       [0.14],\n",
       "       [0.12],\n",
       "       [0.  ],\n",
       "       [0.38],\n",
       "       [0.3 ],\n",
       "       [0.6 ],\n",
       "       [0.7 ],\n",
       "       [0.54],\n",
       "       [0.18],\n",
       "       [0.08],\n",
       "       [0.12],\n",
       "       [0.26],\n",
       "       [0.56],\n",
       "       [0.26],\n",
       "       [0.02],\n",
       "       [0.54],\n",
       "       [0.02],\n",
       "       [0.14],\n",
       "       [0.5 ],\n",
       "       [0.7 ],\n",
       "       [0.78],\n",
       "       [0.16],\n",
       "       [0.64],\n",
       "       [0.66],\n",
       "       [0.02],\n",
       "       [0.36],\n",
       "       [0.08],\n",
       "       [0.48]])"
      ]
     },
     "execution_count": 98,
     "metadata": {},
     "output_type": "execute_result"
    }
   ],
   "source": [
    "#memanggil kolom limit balanace di test yang sudah di scaling\n",
    "test_scaller"
   ]
  },
  {
   "cell_type": "markdown",
   "metadata": {},
   "source": [
    "## Menggabungkan data yang sudah di data preprocessing"
   ]
  },
  {
   "cell_type": "code",
   "execution_count": 99,
   "metadata": {},
   "outputs": [],
   "source": [
    "#membuat variabel baru untuk menampung kolom kategorical pada x train dan x test\n",
    "X_train_cat=X_train_trimmer[['pay_1', 'pay_2', 'pay_3', 'pay_4','pay_5','pay_6']]\n",
    "X_test_cat=X_test_trimmer[['pay_1', 'pay_2', 'pay_3', 'pay_4','pay_5','pay_6']]\n"
   ]
  },
  {
   "cell_type": "code",
   "execution_count": 100,
   "metadata": {},
   "outputs": [],
   "source": [
    "#menggabungkan hasil dari x train. dan x test numerical dan x train kategorical yang sudah di data preprocessing\n",
    "X_train_final = np.concatenate([train_scaller, X_train_cat], axis=1)\n",
    "X_test_final = np.concatenate([test_scaller, X_test_cat], axis=1)"
   ]
  },
  {
   "cell_type": "code",
   "execution_count": 101,
   "metadata": {},
   "outputs": [
    {
     "data": {
      "text/plain": [
       "array([[ 0.58,  0.  ,  0.  , ...,  0.  ,  0.  ,  2.  ],\n",
       "       [ 0.5 ,  0.  ,  0.  , ...,  0.  ,  0.  ,  0.  ],\n",
       "       [ 0.56,  0.  ,  0.  , ...,  0.  ,  0.  ,  0.  ],\n",
       "       ...,\n",
       "       [ 0.24,  0.  ,  0.  , ...,  0.  , -2.  , -2.  ],\n",
       "       [ 0.14,  2.  ,  2.  , ...,  2.  ,  0.  ,  0.  ],\n",
       "       [ 0.24, -1.  ,  2.  , ...,  2.  , -1.  , -1.  ]])"
      ]
     },
     "execution_count": 101,
     "metadata": {},
     "output_type": "execute_result"
    }
   ],
   "source": [
    "#memanggil x train final yang sudah di gabung\n",
    "X_train_final"
   ]
  },
  {
   "cell_type": "code",
   "execution_count": 102,
   "metadata": {},
   "outputs": [
    {
     "data": {
      "text/plain": [
       "array([[ 0.12,  0.  ,  0.  , ...,  0.  ,  0.  ,  0.  ],\n",
       "       [ 0.08,  0.  ,  0.  , ...,  0.  ,  0.  ,  0.  ],\n",
       "       [ 0.4 ,  0.  ,  0.  , ...,  0.  ,  0.  ,  0.  ],\n",
       "       ...,\n",
       "       [ 0.36,  0.  ,  0.  , ...,  0.  ,  0.  , -1.  ],\n",
       "       [ 0.08,  0.  ,  0.  , ...,  0.  ,  2.  ,  0.  ],\n",
       "       [ 0.48,  0.  ,  0.  , ...,  0.  ,  0.  ,  0.  ]])"
      ]
     },
     "execution_count": 102,
     "metadata": {},
     "output_type": "execute_result"
    }
   ],
   "source": [
    "#memanggil x test final yang sudah di gabung\n",
    "X_test_final"
   ]
  },
  {
   "cell_type": "code",
   "execution_count": 103,
   "metadata": {},
   "outputs": [],
   "source": [
    "#menyamakan index pada y train dan y test dengan fungsi loc\n",
    "y_train = y_train.loc[X_train_trimmer.index]\n",
    "y_test = y_test.loc[X_test_trimmer.index]"
   ]
  },
  {
   "cell_type": "code",
   "execution_count": 104,
   "metadata": {},
   "outputs": [
    {
     "data": {
      "text/plain": [
       "array([[ 0.58,  0.  ,  0.  , ...,  0.  ,  0.  ,  2.  ],\n",
       "       [ 0.5 ,  0.  ,  0.  , ...,  0.  ,  0.  ,  0.  ],\n",
       "       [ 0.56,  0.  ,  0.  , ...,  0.  ,  0.  ,  0.  ],\n",
       "       ...,\n",
       "       [ 0.24,  0.  ,  0.  , ...,  0.  , -2.  , -2.  ],\n",
       "       [ 0.14,  2.  ,  2.  , ...,  2.  ,  0.  ,  0.  ],\n",
       "       [ 0.24, -1.  ,  2.  , ...,  2.  , -1.  , -1.  ]])"
      ]
     },
     "execution_count": 104,
     "metadata": {},
     "output_type": "execute_result"
    }
   ],
   "source": [
    "X_train_final"
   ]
  },
  {
   "cell_type": "markdown",
   "metadata": {},
   "source": [
    "## SmotheNC "
   ]
  },
  {
   "cell_type": "code",
   "execution_count": 105,
   "metadata": {},
   "outputs": [
    {
     "data": {
      "text/plain": [
       "0    1855\n",
       "1    1855\n",
       "Name: def_payment, dtype: int64"
      ]
     },
     "execution_count": 105,
     "metadata": {},
     "output_type": "execute_result"
    }
   ],
   "source": [
    "#melakukan smotenc untuk membalancekan data\n",
    "smotenc = SMOTENC([1,2,3,4,5,6], random_state = 66)\n",
    "x_train_balanced, y_train_balanced = smotenc.fit_resample(X_train_final, y_train)\n",
    "y_train_balanced.value_counts()"
   ]
  },
  {
   "cell_type": "code",
   "execution_count": 106,
   "metadata": {},
   "outputs": [],
   "source": [
    "#membuat varibael baru data yang sudah di balance\n",
    "X_train_finals= x_train_balanced\n",
    "y_trains= y_train_balanced"
   ]
  },
  {
   "cell_type": "markdown",
   "metadata": {},
   "source": [
    "# vii Model Definition"
   ]
  },
  {
   "cell_type": "markdown",
   "metadata": {},
   "source": [
    "## Logistic regression"
   ]
  },
  {
   "cell_type": "code",
   "execution_count": 107,
   "metadata": {},
   "outputs": [
    {
     "name": "stdout",
     "output_type": "stream",
     "text": [
      "Coefficient :  [[-0.90840624  0.61806286 -0.07365562  0.15539639 -0.07593628  0.04412125\n",
      "   0.12469467]]\n",
      "Intercept   :  [0.10615282]\n"
     ]
    }
   ],
   "source": [
    "#mendefine model Logistic Refression\n",
    "model_logreg = LogisticRegression()\n",
    "model_logreg.fit(X_train_finals, y_trains)\n",
    "\n",
    "print('Coefficient : ', model_logreg.coef_)\n",
    "print('Intercept   : ', model_logreg.intercept_)"
   ]
  },
  {
   "cell_type": "code",
   "execution_count": 108,
   "metadata": {},
   "outputs": [
    {
     "name": "stdout",
     "output_type": "stream",
     "text": [
      "----------default Logistic Regression-------------\n",
      "              precision    recall  f1-score   support\n",
      "\n",
      "           0       0.67      0.72      0.69      1855\n",
      "           1       0.70      0.65      0.67      1855\n",
      "\n",
      "    accuracy                           0.68      3710\n",
      "   macro avg       0.68      0.68      0.68      3710\n",
      "weighted avg       0.68      0.68      0.68      3710\n",
      "\n"
     ]
    }
   ],
   "source": [
    "#melihat nilai default model logistic regression dari data x train\n",
    "y_train_predict_logreg = model_logreg.predict(X_train_finals)\n",
    "print('----------default Logistic Regression-------------')\n",
    "print(classification_report(y_trains,y_train_predict_logreg))"
   ]
  },
  {
   "cell_type": "code",
   "execution_count": 109,
   "metadata": {},
   "outputs": [
    {
     "name": "stdout",
     "output_type": "stream",
     "text": [
      "----------default Logistic Regression-------------\n",
      "              precision    recall  f1-score   support\n",
      "\n",
      "           0       0.87      0.72      0.79       464\n",
      "           1       0.38      0.61      0.47       127\n",
      "\n",
      "    accuracy                           0.70       591\n",
      "   macro avg       0.62      0.67      0.63       591\n",
      "weighted avg       0.77      0.70      0.72       591\n",
      "\n"
     ]
    }
   ],
   "source": [
    "#melihat nilai default model logistic regression dari data x test\n",
    "y_test_predict_logreg = model_logreg.predict(X_test_final)\n",
    "print('----------default Logistic Regression-------------')\n",
    "print(classification_report(y_test,y_test_predict_logreg))"
   ]
  },
  {
   "cell_type": "markdown",
   "metadata": {},
   "source": [
    "dilihat dari nilai defult Logistic Regression f1_score memiliki nilai range train 0.67 dan test 0.47 "
   ]
  },
  {
   "cell_type": "markdown",
   "metadata": {},
   "source": [
    "KNN"
   ]
  },
  {
   "cell_type": "code",
   "execution_count": 110,
   "metadata": {},
   "outputs": [
    {
     "data": {
      "text/html": [
       "<style>#sk-container-id-4 {color: black;}#sk-container-id-4 pre{padding: 0;}#sk-container-id-4 div.sk-toggleable {background-color: white;}#sk-container-id-4 label.sk-toggleable__label {cursor: pointer;display: block;width: 100%;margin-bottom: 0;padding: 0.3em;box-sizing: border-box;text-align: center;}#sk-container-id-4 label.sk-toggleable__label-arrow:before {content: \"▸\";float: left;margin-right: 0.25em;color: #696969;}#sk-container-id-4 label.sk-toggleable__label-arrow:hover:before {color: black;}#sk-container-id-4 div.sk-estimator:hover label.sk-toggleable__label-arrow:before {color: black;}#sk-container-id-4 div.sk-toggleable__content {max-height: 0;max-width: 0;overflow: hidden;text-align: left;background-color: #f0f8ff;}#sk-container-id-4 div.sk-toggleable__content pre {margin: 0.2em;color: black;border-radius: 0.25em;background-color: #f0f8ff;}#sk-container-id-4 input.sk-toggleable__control:checked~div.sk-toggleable__content {max-height: 200px;max-width: 100%;overflow: auto;}#sk-container-id-4 input.sk-toggleable__control:checked~label.sk-toggleable__label-arrow:before {content: \"▾\";}#sk-container-id-4 div.sk-estimator input.sk-toggleable__control:checked~label.sk-toggleable__label {background-color: #d4ebff;}#sk-container-id-4 div.sk-label input.sk-toggleable__control:checked~label.sk-toggleable__label {background-color: #d4ebff;}#sk-container-id-4 input.sk-hidden--visually {border: 0;clip: rect(1px 1px 1px 1px);clip: rect(1px, 1px, 1px, 1px);height: 1px;margin: -1px;overflow: hidden;padding: 0;position: absolute;width: 1px;}#sk-container-id-4 div.sk-estimator {font-family: monospace;background-color: #f0f8ff;border: 1px dotted black;border-radius: 0.25em;box-sizing: border-box;margin-bottom: 0.5em;}#sk-container-id-4 div.sk-estimator:hover {background-color: #d4ebff;}#sk-container-id-4 div.sk-parallel-item::after {content: \"\";width: 100%;border-bottom: 1px solid gray;flex-grow: 1;}#sk-container-id-4 div.sk-label:hover label.sk-toggleable__label {background-color: #d4ebff;}#sk-container-id-4 div.sk-serial::before {content: \"\";position: absolute;border-left: 1px solid gray;box-sizing: border-box;top: 0;bottom: 0;left: 50%;z-index: 0;}#sk-container-id-4 div.sk-serial {display: flex;flex-direction: column;align-items: center;background-color: white;padding-right: 0.2em;padding-left: 0.2em;position: relative;}#sk-container-id-4 div.sk-item {position: relative;z-index: 1;}#sk-container-id-4 div.sk-parallel {display: flex;align-items: stretch;justify-content: center;background-color: white;position: relative;}#sk-container-id-4 div.sk-item::before, #sk-container-id-4 div.sk-parallel-item::before {content: \"\";position: absolute;border-left: 1px solid gray;box-sizing: border-box;top: 0;bottom: 0;left: 50%;z-index: -1;}#sk-container-id-4 div.sk-parallel-item {display: flex;flex-direction: column;z-index: 1;position: relative;background-color: white;}#sk-container-id-4 div.sk-parallel-item:first-child::after {align-self: flex-end;width: 50%;}#sk-container-id-4 div.sk-parallel-item:last-child::after {align-self: flex-start;width: 50%;}#sk-container-id-4 div.sk-parallel-item:only-child::after {width: 0;}#sk-container-id-4 div.sk-dashed-wrapped {border: 1px dashed gray;margin: 0 0.4em 0.5em 0.4em;box-sizing: border-box;padding-bottom: 0.4em;background-color: white;}#sk-container-id-4 div.sk-label label {font-family: monospace;font-weight: bold;display: inline-block;line-height: 1.2em;}#sk-container-id-4 div.sk-label-container {text-align: center;}#sk-container-id-4 div.sk-container {/* jupyter's `normalize.less` sets `[hidden] { display: none; }` but bootstrap.min.css set `[hidden] { display: none !important; }` so we also need the `!important` here to be able to override the default hidden behavior on the sphinx rendered scikit-learn.org. See: https://github.com/scikit-learn/scikit-learn/issues/21755 */display: inline-block !important;position: relative;}#sk-container-id-4 div.sk-text-repr-fallback {display: none;}</style><div id=\"sk-container-id-4\" class=\"sk-top-container\"><div class=\"sk-text-repr-fallback\"><pre>KNeighborsClassifier()</pre><b>In a Jupyter environment, please rerun this cell to show the HTML representation or trust the notebook. <br />On GitHub, the HTML representation is unable to render, please try loading this page with nbviewer.org.</b></div><div class=\"sk-container\" hidden><div class=\"sk-item\"><div class=\"sk-estimator sk-toggleable\"><input class=\"sk-toggleable__control sk-hidden--visually\" id=\"sk-estimator-id-6\" type=\"checkbox\" checked><label for=\"sk-estimator-id-6\" class=\"sk-toggleable__label sk-toggleable__label-arrow\">KNeighborsClassifier</label><div class=\"sk-toggleable__content\"><pre>KNeighborsClassifier()</pre></div></div></div></div></div>"
      ],
      "text/plain": [
       "KNeighborsClassifier()"
      ]
     },
     "execution_count": 110,
     "metadata": {},
     "output_type": "execute_result"
    }
   ],
   "source": [
    "#mendefine model KNN\n",
    "knn = KNeighborsClassifier()\n",
    "knn.fit(X_train_finals, y_trains)"
   ]
  },
  {
   "cell_type": "code",
   "execution_count": 111,
   "metadata": {},
   "outputs": [
    {
     "name": "stdout",
     "output_type": "stream",
     "text": [
      "----------default KNN-------------\n",
      "              precision    recall  f1-score   support\n",
      "\n",
      "           0       0.76      0.88      0.82      1855\n",
      "           1       0.86      0.72      0.79      1855\n",
      "\n",
      "    accuracy                           0.80      3710\n",
      "   macro avg       0.81      0.80      0.80      3710\n",
      "weighted avg       0.81      0.80      0.80      3710\n",
      "\n"
     ]
    }
   ],
   "source": [
    "#melihat nilai default model KNN dari data x train\n",
    "y_train_predict_knn = knn.predict(X_train_finals)\n",
    "print('----------default KNN-------------')\n",
    "print(classification_report(y_trains,y_train_predict_knn))"
   ]
  },
  {
   "cell_type": "code",
   "execution_count": 112,
   "metadata": {},
   "outputs": [
    {
     "name": "stdout",
     "output_type": "stream",
     "text": [
      "----------default KNN-------------\n",
      "              precision    recall  f1-score   support\n",
      "\n",
      "           0       0.86      0.85      0.85       464\n",
      "           1       0.47      0.49      0.48       127\n",
      "\n",
      "    accuracy                           0.77       591\n",
      "   macro avg       0.66      0.67      0.67       591\n",
      "weighted avg       0.77      0.77      0.77       591\n",
      "\n"
     ]
    }
   ],
   "source": [
    "#melihat nilai default model KNN dari data x test\n",
    "y_test_predict_knn = knn.predict(X_test_final)\n",
    "print('----------default KNN-------------')\n",
    "print(classification_report(y_test,y_test_predict_knn))"
   ]
  },
  {
   "cell_type": "markdown",
   "metadata": {},
   "source": [
    "dilihat dari nilai defult KNN f1_score memiliki nilai range train 0.79 dan test 0.48"
   ]
  },
  {
   "cell_type": "markdown",
   "metadata": {},
   "source": [
    "SVM"
   ]
  },
  {
   "cell_type": "code",
   "execution_count": 113,
   "metadata": {},
   "outputs": [
    {
     "data": {
      "text/html": [
       "<style>#sk-container-id-5 {color: black;}#sk-container-id-5 pre{padding: 0;}#sk-container-id-5 div.sk-toggleable {background-color: white;}#sk-container-id-5 label.sk-toggleable__label {cursor: pointer;display: block;width: 100%;margin-bottom: 0;padding: 0.3em;box-sizing: border-box;text-align: center;}#sk-container-id-5 label.sk-toggleable__label-arrow:before {content: \"▸\";float: left;margin-right: 0.25em;color: #696969;}#sk-container-id-5 label.sk-toggleable__label-arrow:hover:before {color: black;}#sk-container-id-5 div.sk-estimator:hover label.sk-toggleable__label-arrow:before {color: black;}#sk-container-id-5 div.sk-toggleable__content {max-height: 0;max-width: 0;overflow: hidden;text-align: left;background-color: #f0f8ff;}#sk-container-id-5 div.sk-toggleable__content pre {margin: 0.2em;color: black;border-radius: 0.25em;background-color: #f0f8ff;}#sk-container-id-5 input.sk-toggleable__control:checked~div.sk-toggleable__content {max-height: 200px;max-width: 100%;overflow: auto;}#sk-container-id-5 input.sk-toggleable__control:checked~label.sk-toggleable__label-arrow:before {content: \"▾\";}#sk-container-id-5 div.sk-estimator input.sk-toggleable__control:checked~label.sk-toggleable__label {background-color: #d4ebff;}#sk-container-id-5 div.sk-label input.sk-toggleable__control:checked~label.sk-toggleable__label {background-color: #d4ebff;}#sk-container-id-5 input.sk-hidden--visually {border: 0;clip: rect(1px 1px 1px 1px);clip: rect(1px, 1px, 1px, 1px);height: 1px;margin: -1px;overflow: hidden;padding: 0;position: absolute;width: 1px;}#sk-container-id-5 div.sk-estimator {font-family: monospace;background-color: #f0f8ff;border: 1px dotted black;border-radius: 0.25em;box-sizing: border-box;margin-bottom: 0.5em;}#sk-container-id-5 div.sk-estimator:hover {background-color: #d4ebff;}#sk-container-id-5 div.sk-parallel-item::after {content: \"\";width: 100%;border-bottom: 1px solid gray;flex-grow: 1;}#sk-container-id-5 div.sk-label:hover label.sk-toggleable__label {background-color: #d4ebff;}#sk-container-id-5 div.sk-serial::before {content: \"\";position: absolute;border-left: 1px solid gray;box-sizing: border-box;top: 0;bottom: 0;left: 50%;z-index: 0;}#sk-container-id-5 div.sk-serial {display: flex;flex-direction: column;align-items: center;background-color: white;padding-right: 0.2em;padding-left: 0.2em;position: relative;}#sk-container-id-5 div.sk-item {position: relative;z-index: 1;}#sk-container-id-5 div.sk-parallel {display: flex;align-items: stretch;justify-content: center;background-color: white;position: relative;}#sk-container-id-5 div.sk-item::before, #sk-container-id-5 div.sk-parallel-item::before {content: \"\";position: absolute;border-left: 1px solid gray;box-sizing: border-box;top: 0;bottom: 0;left: 50%;z-index: -1;}#sk-container-id-5 div.sk-parallel-item {display: flex;flex-direction: column;z-index: 1;position: relative;background-color: white;}#sk-container-id-5 div.sk-parallel-item:first-child::after {align-self: flex-end;width: 50%;}#sk-container-id-5 div.sk-parallel-item:last-child::after {align-self: flex-start;width: 50%;}#sk-container-id-5 div.sk-parallel-item:only-child::after {width: 0;}#sk-container-id-5 div.sk-dashed-wrapped {border: 1px dashed gray;margin: 0 0.4em 0.5em 0.4em;box-sizing: border-box;padding-bottom: 0.4em;background-color: white;}#sk-container-id-5 div.sk-label label {font-family: monospace;font-weight: bold;display: inline-block;line-height: 1.2em;}#sk-container-id-5 div.sk-label-container {text-align: center;}#sk-container-id-5 div.sk-container {/* jupyter's `normalize.less` sets `[hidden] { display: none; }` but bootstrap.min.css set `[hidden] { display: none !important; }` so we also need the `!important` here to be able to override the default hidden behavior on the sphinx rendered scikit-learn.org. See: https://github.com/scikit-learn/scikit-learn/issues/21755 */display: inline-block !important;position: relative;}#sk-container-id-5 div.sk-text-repr-fallback {display: none;}</style><div id=\"sk-container-id-5\" class=\"sk-top-container\"><div class=\"sk-text-repr-fallback\"><pre>SVC()</pre><b>In a Jupyter environment, please rerun this cell to show the HTML representation or trust the notebook. <br />On GitHub, the HTML representation is unable to render, please try loading this page with nbviewer.org.</b></div><div class=\"sk-container\" hidden><div class=\"sk-item\"><div class=\"sk-estimator sk-toggleable\"><input class=\"sk-toggleable__control sk-hidden--visually\" id=\"sk-estimator-id-7\" type=\"checkbox\" checked><label for=\"sk-estimator-id-7\" class=\"sk-toggleable__label sk-toggleable__label-arrow\">SVC</label><div class=\"sk-toggleable__content\"><pre>SVC()</pre></div></div></div></div></div>"
      ],
      "text/plain": [
       "SVC()"
      ]
     },
     "execution_count": 113,
     "metadata": {},
     "output_type": "execute_result"
    }
   ],
   "source": [
    "#mendefine model SVM\n",
    "svm_scaled = SVC()\n",
    "svm_scaled.fit(X_train_finals, y_trains)"
   ]
  },
  {
   "cell_type": "code",
   "execution_count": 114,
   "metadata": {},
   "outputs": [
    {
     "name": "stdout",
     "output_type": "stream",
     "text": [
      "----------default SVM-------------\n",
      "              precision    recall  f1-score   support\n",
      "\n",
      "           0       0.67      0.89      0.76      1855\n",
      "           1       0.84      0.56      0.67      1855\n",
      "\n",
      "    accuracy                           0.73      3710\n",
      "   macro avg       0.75      0.73      0.72      3710\n",
      "weighted avg       0.75      0.73      0.72      3710\n",
      "\n"
     ]
    }
   ],
   "source": [
    "#melihat nilai default model SVM dari data x train\n",
    "y_train_predict_svm = svm_scaled.predict(X_train_finals)\n",
    "print('----------default SVM-------------')\n",
    "print(classification_report(y_trains,y_train_predict_svm))"
   ]
  },
  {
   "cell_type": "code",
   "execution_count": 115,
   "metadata": {},
   "outputs": [
    {
     "name": "stdout",
     "output_type": "stream",
     "text": [
      "----------default SVM-------------\n",
      "              precision    recall  f1-score   support\n",
      "\n",
      "           0       0.87      0.88      0.88       464\n",
      "           1       0.55      0.52      0.53       127\n",
      "\n",
      "    accuracy                           0.80       591\n",
      "   macro avg       0.71      0.70      0.70       591\n",
      "weighted avg       0.80      0.80      0.80       591\n",
      "\n"
     ]
    }
   ],
   "source": [
    "#melihat nilai default model SVM dari data x test\n",
    "y_test_predict_svm = svm_scaled.predict(X_test_final)\n",
    "print('----------default SVM-------------')\n",
    "print(classification_report(y_test,y_test_predict_svm))"
   ]
  },
  {
   "cell_type": "markdown",
   "metadata": {},
   "source": [
    "dilihat dari nilai defult SVM f1_score memiliki nilai range train 0.67 dan test 0.53"
   ]
  },
  {
   "cell_type": "markdown",
   "metadata": {},
   "source": [
    "## Cross Validation"
   ]
  },
  {
   "cell_type": "markdown",
   "metadata": {},
   "source": [
    "Disini saya melelakukan cross validation pada 3 model diantara Logistic Regression, KNN dan SVM. Dari hasil cross validation model terbaik akan diambil untuk dilakukan hypermeterparatuning dan ditraining serta di evaluasi. Saya menggunakan penilaian F1 score karena saya menganggap precision dan recall penting "
   ]
  },
  {
   "cell_type": "markdown",
   "metadata": {},
   "source": [
    "### cross validation dengan metode logistec regession"
   ]
  },
  {
   "cell_type": "code",
   "execution_count": 116,
   "metadata": {},
   "outputs": [
    {
     "name": "stdout",
     "output_type": "stream",
     "text": [
      "F1 Score - All - Cross Validation  :  [0.68938401 0.62857143 0.66199158 0.697609   0.68775791]\n",
      "F1 Score - Mean - Cross Validation :  0.6730627869063035\n",
      "F1 Score - Std - Cross Validation  :  0.02524637830058187\n",
      "F1 Score - Range of Test-Set       :  0.6478164086057216 - 0.6983091652068854\n",
      "CPU times: total: 406 ms\n",
      "Wall time: 130 ms\n"
     ]
    }
   ],
   "source": [
    "%%time\n",
    "f1_train_cross_val = cross_val_score(model_logreg,\n",
    "                                     X_train_finals,\n",
    "                                     y_trains,\n",
    "                                     cv=5,\n",
    "                                     scoring=\"f1\")\n",
    "\n",
    "print('F1 Score - All - Cross Validation  : ', f1_train_cross_val)\n",
    "print('F1 Score - Mean - Cross Validation : ', f1_train_cross_val.mean())\n",
    "print('F1 Score - Std - Cross Validation  : ', f1_train_cross_val.std())\n",
    "print('F1 Score - Range of Test-Set       : ', (f1_train_cross_val.mean()-f1_train_cross_val.std()) , '-', (f1_train_cross_val.mean()+f1_train_cross_val.std()))"
   ]
  },
  {
   "cell_type": "markdown",
   "metadata": {},
   "source": [
    "dilihat dari nilai STD dari model Logistic Regression 0.025 bisa dibilang bahwa model ini best fit"
   ]
  },
  {
   "cell_type": "markdown",
   "metadata": {},
   "source": [
    "### cross validation dengan metode knn"
   ]
  },
  {
   "cell_type": "code",
   "execution_count": 117,
   "metadata": {},
   "outputs": [
    {
     "name": "stdout",
     "output_type": "stream",
     "text": [
      "F1 Score - All - Cross Validation  :  [0.68085106 0.69822485 0.7532097  0.75177305 0.74532374]\n",
      "F1 Score - Mean - Cross Validation :  0.7258764813962675\n",
      "F1 Score - Std - Cross Validation  :  0.030291364602699242\n",
      "F1 Score - Range of Test-Set       :  0.6955851167935683 - 0.7561678459989667\n",
      "CPU times: total: 812 ms\n",
      "Wall time: 272 ms\n"
     ]
    }
   ],
   "source": [
    "%%time\n",
    "f1_train_cross_val = cross_val_score(knn,\n",
    "                                     X_train_finals,\n",
    "                                     y_trains,\n",
    "                                     cv=5,\n",
    "                                     scoring=\"f1\")\n",
    "\n",
    "print('F1 Score - All - Cross Validation  : ', f1_train_cross_val)\n",
    "print('F1 Score - Mean - Cross Validation : ', f1_train_cross_val.mean())\n",
    "print('F1 Score - Std - Cross Validation  : ', f1_train_cross_val.std())\n",
    "print('F1 Score - Range of Test-Set       : ', (f1_train_cross_val.mean()-f1_train_cross_val.std()) , '-', (f1_train_cross_val.mean()+f1_train_cross_val.std()))"
   ]
  },
  {
   "cell_type": "markdown",
   "metadata": {},
   "source": [
    "dilihat dari nilai STD dari model KNN 0.03 bisa dibilang bahwa model ini best fit"
   ]
  },
  {
   "cell_type": "markdown",
   "metadata": {},
   "source": [
    "### cross validation dengan metode SVM"
   ]
  },
  {
   "cell_type": "code",
   "execution_count": 118,
   "metadata": {},
   "outputs": [
    {
     "name": "stdout",
     "output_type": "stream",
     "text": [
      "F1 Score - All - Cross Validation  :  [0.66242038 0.60883797 0.63578275 0.68330733 0.6793049 ]\n",
      "F1 Score - Mean - Cross Validation :  0.653930665983441\n",
      "F1 Score - Std - Cross Validation  :  0.028077085118753956\n",
      "F1 Score - Range of Test-Set       :  0.625853580864687 - 0.6820077511021949\n",
      "CPU times: total: 2.92 s\n",
      "Wall time: 2.93 s\n"
     ]
    }
   ],
   "source": [
    "%%time\n",
    "f1_train_cross_val = cross_val_score(svm_scaled,\n",
    "                                     X_train_finals,\n",
    "                                     y_trains,\n",
    "                                     cv=5,\n",
    "                                     scoring=\"f1\")\n",
    "\n",
    "print('F1 Score - All - Cross Validation  : ', f1_train_cross_val)\n",
    "print('F1 Score - Mean - Cross Validation : ', f1_train_cross_val.mean())\n",
    "print('F1 Score - Std - Cross Validation  : ', f1_train_cross_val.std())\n",
    "print('F1 Score - Range of Test-Set       : ', (f1_train_cross_val.mean()-f1_train_cross_val.std()) , '-', (f1_train_cross_val.mean()+f1_train_cross_val.std()))"
   ]
  },
  {
   "cell_type": "markdown",
   "metadata": {},
   "source": [
    "dilihat dari nilai STD dari model SVM 0.025 bisa dibilang bahwa model ini best fit"
   ]
  },
  {
   "cell_type": "markdown",
   "metadata": {},
   "source": [
    "Kesimpulan : dari hasil cross validation diatas saya mengambil model KNN untuk di hypertunning parameter karena hasilnya paling bagus diantara 3 model yang lain dengan nilai F1 Score - Range of Test-Set 0.7048053351122697 - 0.7562437364204834"
   ]
  },
  {
   "cell_type": "markdown",
   "metadata": {},
   "source": [
    "# viii. Model Training"
   ]
  },
  {
   "cell_type": "code",
   "execution_count": 119,
   "metadata": {},
   "outputs": [],
   "source": [
    "# Mendefine parameter untuk metode SVM \n",
    "#Saya memakai 2 parameter saja untuk mempersingkat waktu\n",
    "random_search_params = {\n",
    "    'weights': ['uniform', 'distance'],\n",
    "    'p': [1, 2]\n",
    "}"
   ]
  },
  {
   "cell_type": "code",
   "execution_count": 120,
   "metadata": {},
   "outputs": [
    {
     "name": "stderr",
     "output_type": "stream",
     "text": [
      "c:\\Users\\USER\\miniconda3\\lib\\site-packages\\sklearn\\model_selection\\_search.py:307: UserWarning: The total space of parameters 4 is smaller than n_iter=100. Running 4 iterations. For exhaustive searches, use GridSearchCV.\n",
      "  warnings.warn(\n"
     ]
    },
    {
     "data": {
      "text/html": [
       "<style>#sk-container-id-6 {color: black;}#sk-container-id-6 pre{padding: 0;}#sk-container-id-6 div.sk-toggleable {background-color: white;}#sk-container-id-6 label.sk-toggleable__label {cursor: pointer;display: block;width: 100%;margin-bottom: 0;padding: 0.3em;box-sizing: border-box;text-align: center;}#sk-container-id-6 label.sk-toggleable__label-arrow:before {content: \"▸\";float: left;margin-right: 0.25em;color: #696969;}#sk-container-id-6 label.sk-toggleable__label-arrow:hover:before {color: black;}#sk-container-id-6 div.sk-estimator:hover label.sk-toggleable__label-arrow:before {color: black;}#sk-container-id-6 div.sk-toggleable__content {max-height: 0;max-width: 0;overflow: hidden;text-align: left;background-color: #f0f8ff;}#sk-container-id-6 div.sk-toggleable__content pre {margin: 0.2em;color: black;border-radius: 0.25em;background-color: #f0f8ff;}#sk-container-id-6 input.sk-toggleable__control:checked~div.sk-toggleable__content {max-height: 200px;max-width: 100%;overflow: auto;}#sk-container-id-6 input.sk-toggleable__control:checked~label.sk-toggleable__label-arrow:before {content: \"▾\";}#sk-container-id-6 div.sk-estimator input.sk-toggleable__control:checked~label.sk-toggleable__label {background-color: #d4ebff;}#sk-container-id-6 div.sk-label input.sk-toggleable__control:checked~label.sk-toggleable__label {background-color: #d4ebff;}#sk-container-id-6 input.sk-hidden--visually {border: 0;clip: rect(1px 1px 1px 1px);clip: rect(1px, 1px, 1px, 1px);height: 1px;margin: -1px;overflow: hidden;padding: 0;position: absolute;width: 1px;}#sk-container-id-6 div.sk-estimator {font-family: monospace;background-color: #f0f8ff;border: 1px dotted black;border-radius: 0.25em;box-sizing: border-box;margin-bottom: 0.5em;}#sk-container-id-6 div.sk-estimator:hover {background-color: #d4ebff;}#sk-container-id-6 div.sk-parallel-item::after {content: \"\";width: 100%;border-bottom: 1px solid gray;flex-grow: 1;}#sk-container-id-6 div.sk-label:hover label.sk-toggleable__label {background-color: #d4ebff;}#sk-container-id-6 div.sk-serial::before {content: \"\";position: absolute;border-left: 1px solid gray;box-sizing: border-box;top: 0;bottom: 0;left: 50%;z-index: 0;}#sk-container-id-6 div.sk-serial {display: flex;flex-direction: column;align-items: center;background-color: white;padding-right: 0.2em;padding-left: 0.2em;position: relative;}#sk-container-id-6 div.sk-item {position: relative;z-index: 1;}#sk-container-id-6 div.sk-parallel {display: flex;align-items: stretch;justify-content: center;background-color: white;position: relative;}#sk-container-id-6 div.sk-item::before, #sk-container-id-6 div.sk-parallel-item::before {content: \"\";position: absolute;border-left: 1px solid gray;box-sizing: border-box;top: 0;bottom: 0;left: 50%;z-index: -1;}#sk-container-id-6 div.sk-parallel-item {display: flex;flex-direction: column;z-index: 1;position: relative;background-color: white;}#sk-container-id-6 div.sk-parallel-item:first-child::after {align-self: flex-end;width: 50%;}#sk-container-id-6 div.sk-parallel-item:last-child::after {align-self: flex-start;width: 50%;}#sk-container-id-6 div.sk-parallel-item:only-child::after {width: 0;}#sk-container-id-6 div.sk-dashed-wrapped {border: 1px dashed gray;margin: 0 0.4em 0.5em 0.4em;box-sizing: border-box;padding-bottom: 0.4em;background-color: white;}#sk-container-id-6 div.sk-label label {font-family: monospace;font-weight: bold;display: inline-block;line-height: 1.2em;}#sk-container-id-6 div.sk-label-container {text-align: center;}#sk-container-id-6 div.sk-container {/* jupyter's `normalize.less` sets `[hidden] { display: none; }` but bootstrap.min.css set `[hidden] { display: none !important; }` so we also need the `!important` here to be able to override the default hidden behavior on the sphinx rendered scikit-learn.org. See: https://github.com/scikit-learn/scikit-learn/issues/21755 */display: inline-block !important;position: relative;}#sk-container-id-6 div.sk-text-repr-fallback {display: none;}</style><div id=\"sk-container-id-6\" class=\"sk-top-container\"><div class=\"sk-text-repr-fallback\"><pre>RandomizedSearchCV(cv=5, estimator=KNeighborsClassifier(), n_iter=100,\n",
       "                   n_jobs=-1,\n",
       "                   param_distributions={&#x27;p&#x27;: [1, 2],\n",
       "                                        &#x27;weights&#x27;: [&#x27;uniform&#x27;, &#x27;distance&#x27;]},\n",
       "                   random_state=3, scoring=&#x27;f1&#x27;)</pre><b>In a Jupyter environment, please rerun this cell to show the HTML representation or trust the notebook. <br />On GitHub, the HTML representation is unable to render, please try loading this page with nbviewer.org.</b></div><div class=\"sk-container\" hidden><div class=\"sk-item sk-dashed-wrapped\"><div class=\"sk-label-container\"><div class=\"sk-label sk-toggleable\"><input class=\"sk-toggleable__control sk-hidden--visually\" id=\"sk-estimator-id-8\" type=\"checkbox\" ><label for=\"sk-estimator-id-8\" class=\"sk-toggleable__label sk-toggleable__label-arrow\">RandomizedSearchCV</label><div class=\"sk-toggleable__content\"><pre>RandomizedSearchCV(cv=5, estimator=KNeighborsClassifier(), n_iter=100,\n",
       "                   n_jobs=-1,\n",
       "                   param_distributions={&#x27;p&#x27;: [1, 2],\n",
       "                                        &#x27;weights&#x27;: [&#x27;uniform&#x27;, &#x27;distance&#x27;]},\n",
       "                   random_state=3, scoring=&#x27;f1&#x27;)</pre></div></div></div><div class=\"sk-parallel\"><div class=\"sk-parallel-item\"><div class=\"sk-item\"><div class=\"sk-label-container\"><div class=\"sk-label sk-toggleable\"><input class=\"sk-toggleable__control sk-hidden--visually\" id=\"sk-estimator-id-9\" type=\"checkbox\" ><label for=\"sk-estimator-id-9\" class=\"sk-toggleable__label sk-toggleable__label-arrow\">estimator: KNeighborsClassifier</label><div class=\"sk-toggleable__content\"><pre>KNeighborsClassifier()</pre></div></div></div><div class=\"sk-serial\"><div class=\"sk-item\"><div class=\"sk-estimator sk-toggleable\"><input class=\"sk-toggleable__control sk-hidden--visually\" id=\"sk-estimator-id-10\" type=\"checkbox\" ><label for=\"sk-estimator-id-10\" class=\"sk-toggleable__label sk-toggleable__label-arrow\">KNeighborsClassifier</label><div class=\"sk-toggleable__content\"><pre>KNeighborsClassifier()</pre></div></div></div></div></div></div></div></div></div></div>"
      ],
      "text/plain": [
       "RandomizedSearchCV(cv=5, estimator=KNeighborsClassifier(), n_iter=100,\n",
       "                   n_jobs=-1,\n",
       "                   param_distributions={'p': [1, 2],\n",
       "                                        'weights': ['uniform', 'distance']},\n",
       "                   random_state=3, scoring='f1')"
      ]
     },
     "execution_count": 120,
     "metadata": {},
     "output_type": "execute_result"
    }
   ],
   "source": [
    "#melakukan hyperparameter tunning dengan metode random search\n",
    "rf_randomcv = RandomizedSearchCV(estimator=KNeighborsClassifier(),\n",
    "                                 param_distributions=random_search_params,\n",
    "                                 n_iter=100,\n",
    "                                 cv=5,\n",
    "                                 random_state=3,\n",
    "                                 n_jobs=-1,\n",
    "                                 scoring='f1')\n",
    "rf_randomcv.fit(X_train_finals, y_trains)"
   ]
  },
  {
   "cell_type": "code",
   "execution_count": 121,
   "metadata": {},
   "outputs": [
    {
     "data": {
      "text/plain": [
       "{'weights': 'distance', 'p': 2}"
      ]
     },
     "execution_count": 121,
     "metadata": {},
     "output_type": "execute_result"
    }
   ],
   "source": [
    "#memanggil parameter terbaik dalam random cv \n",
    "rf_randomcv.best_params_"
   ]
  },
  {
   "cell_type": "code",
   "execution_count": 122,
   "metadata": {},
   "outputs": [],
   "source": [
    "rf_randomcv_best = rf_randomcv.best_estimator_"
   ]
  },
  {
   "cell_type": "code",
   "execution_count": 123,
   "metadata": {},
   "outputs": [
    {
     "name": "stdout",
     "output_type": "stream",
     "text": [
      "0.7340693823888363\n",
      "0.007639635271124033\n"
     ]
    }
   ],
   "source": [
    "#melihat mean dan standard deviasi dari hyperparamter tuning random search\n",
    "print(rf_randomcv.cv_results_['mean_test_score'].mean())\n",
    "print(rf_randomcv.cv_results_['mean_test_score'].std())"
   ]
  },
  {
   "cell_type": "markdown",
   "metadata": {},
   "source": [
    "Hasil : dari hasil std yang mendekati 0 dan berada di bawah mean berarti model ini adalah BEST FIT"
   ]
  },
  {
   "cell_type": "code",
   "execution_count": 124,
   "metadata": {},
   "outputs": [
    {
     "name": "stdout",
     "output_type": "stream",
     "text": [
      "F1 Score - Train Set  :  0.8894767783656672 \n",
      "\n",
      "Classification Report : \n",
      "               precision    recall  f1-score   support\n",
      "\n",
      "           0       0.84      0.98      0.91      1855\n",
      "           1       0.98      0.82      0.89      1855\n",
      "\n",
      "    accuracy                           0.90      3710\n",
      "   macro avg       0.91      0.90      0.90      3710\n",
      "weighted avg       0.91      0.90      0.90      3710\n",
      " \n",
      "\n",
      "Confusion Matrix      : \n",
      " <sklearn.metrics._plot.confusion_matrix.ConfusionMatrixDisplay object at 0x000002052A576100>\n"
     ]
    },
    {
     "data": {
      "image/png": "[encoded data removed]",
      "text/plain": [
       "<Figure size 640x480 with 2 Axes>"
      ]
     },
     "metadata": {},
     "output_type": "display_data"
    }
   ],
   "source": [
    "#melihat hasil data yang sudah di training dengan metode random search\n",
    "y_pred_train_finals = rf_randomcv_best.predict(X_train_finals)\n",
    "\n",
    "print('F1 Score - Train Set  : ', f1_score(y_trains, y_pred_train_finals), '\\n')\n",
    "print('Classification Report : \\n', classification_report(y_trains, y_pred_train_finals), '\\n')\n",
    "print('Confusion Matrix      : \\n', ConfusionMatrixDisplay.from_estimator(rf_randomcv, X_train_finals, y_trains, cmap='Reds'))"
   ]
  },
  {
   "cell_type": "code",
   "execution_count": 125,
   "metadata": {},
   "outputs": [
    {
     "name": "stdout",
     "output_type": "stream",
     "text": [
      "F1 Score - Train Set  :  0.46025104602510464 \n",
      "\n",
      "Classification Report : \n",
      "               precision    recall  f1-score   support\n",
      "\n",
      "           0       0.85      0.88      0.86       464\n",
      "           1       0.49      0.43      0.46       127\n",
      "\n",
      "    accuracy                           0.78       591\n",
      "   macro avg       0.67      0.66      0.66       591\n",
      "weighted avg       0.77      0.78      0.78       591\n",
      " \n",
      "\n",
      "Confusion Matrix      : \n",
      " <sklearn.metrics._plot.confusion_matrix.ConfusionMatrixDisplay object at 0x000002052B646E20>\n"
     ]
    },
    {
     "data": {
      "image/png": "[encoded data removed]",
      "text/plain": [
       "<Figure size 640x480 with 2 Axes>"
      ]
     },
     "metadata": {},
     "output_type": "display_data"
    }
   ],
   "source": [
    "#menampilkan hasil data test dengan metode random search\n",
    "y_pred_test_finals = rf_randomcv_best.predict(X_test_final)\n",
    "\n",
    "print('F1 Score - Train Set  : ', f1_score(y_test, y_pred_test_finals), '\\n')\n",
    "print('Classification Report : \\n', classification_report(y_test, y_pred_test_finals), '\\n')\n",
    "print('Confusion Matrix      : \\n', ConfusionMatrixDisplay.from_estimator(rf_randomcv, X_test_final, y_test, cmap='Reds'))"
   ]
  },
  {
   "cell_type": "markdown",
   "metadata": {},
   "source": [
    "kesimpulan : dilihat dari nilai defult KNN f1_score random search memiliki nilai range train 0.89 dan test 0.46"
   ]
  },
  {
   "cell_type": "markdown",
   "metadata": {},
   "source": [
    "# ix Model Evaluation"
   ]
  },
  {
   "cell_type": "code",
   "execution_count": 126,
   "metadata": {},
   "outputs": [
    {
     "data": {
      "text/html": [
       "<div>\n",
       "<style scoped>\n",
       "    .dataframe tbody tr th:only-of-type {\n",
       "        vertical-align: middle;\n",
       "    }\n",
       "\n",
       "    .dataframe tbody tr th {\n",
       "        vertical-align: top;\n",
       "    }\n",
       "\n",
       "    .dataframe thead th {\n",
       "        text-align: right;\n",
       "    }\n",
       "</style>\n",
       "<table border=\"1\" class=\"dataframe\">\n",
       "  <thead>\n",
       "    <tr style=\"text-align: right;\">\n",
       "      <th></th>\n",
       "      <th>Baseline (Default Hyperparameter)</th>\n",
       "    </tr>\n",
       "  </thead>\n",
       "  <tbody>\n",
       "    <tr>\n",
       "      <th>test - accuracy_score</th>\n",
       "      <td>0.771574</td>\n",
       "    </tr>\n",
       "    <tr>\n",
       "      <th>test - f1_score</th>\n",
       "      <td>0.478764</td>\n",
       "    </tr>\n",
       "    <tr>\n",
       "      <th>test - precision</th>\n",
       "      <td>0.469697</td>\n",
       "    </tr>\n",
       "    <tr>\n",
       "      <th>test - recall</th>\n",
       "      <td>0.488189</td>\n",
       "    </tr>\n",
       "    <tr>\n",
       "      <th>train - accuracy</th>\n",
       "      <td>0.802965</td>\n",
       "    </tr>\n",
       "    <tr>\n",
       "      <th>train - f1_score</th>\n",
       "      <td>0.785568</td>\n",
       "    </tr>\n",
       "    <tr>\n",
       "      <th>train - precision</th>\n",
       "      <td>0.861647</td>\n",
       "    </tr>\n",
       "    <tr>\n",
       "      <th>train - recall</th>\n",
       "      <td>0.721833</td>\n",
       "    </tr>\n",
       "  </tbody>\n",
       "</table>\n",
       "</div>"
      ],
      "text/plain": [
       "                       Baseline (Default Hyperparameter)\n",
       "test - accuracy_score                           0.771574\n",
       "test - f1_score                                 0.478764\n",
       "test - precision                                0.469697\n",
       "test - recall                                   0.488189\n",
       "train - accuracy                                0.802965\n",
       "train - f1_score                                0.785568\n",
       "train - precision                               0.861647\n",
       "train - recall                                  0.721833"
      ]
     },
     "execution_count": 126,
     "metadata": {},
     "output_type": "execute_result"
    }
   ],
   "source": [
    "#membuat table baru default untuk nantinya membandingkan dengan nilai f1 score test yang default dan yang sudah dengan menggunakan random seach\n",
    "all_reports = {}\n",
    "def performance_report(all_reports, y_trains, y_train_predict_knn, y_test, y_test_predict_knn, name):\n",
    "  score_reports = {\n",
    "      'train - precision' : precision_score(y_trains, y_train_predict_knn),\n",
    "      'train - recall' : recall_score(y_trains, y_train_predict_knn),\n",
    "      'train - accuracy' : accuracy_score(y_trains, y_train_predict_knn),\n",
    "      'train - f1_score' : f1_score(y_trains, y_train_predict_knn),\n",
    "      'test - precision' : precision_score(y_test, y_test_predict_knn),\n",
    "      'test - recall' : recall_score(y_test, y_test_predict_knn),\n",
    "      'test - accuracy_score' : accuracy_score(y_test, y_test_predict_knn),\n",
    "      'test - f1_score' : f1_score(y_test, y_test_predict_knn),\n",
    "  }\n",
    "  all_reports[name] = score_reports\n",
    "  return all_reports\n",
    "\n",
    "all_reports = performance_report(all_reports, y_trains, y_train_predict_knn, y_test, y_test_predict_knn, 'Baseline (Default Hyperparameter)')\n",
    "pd.DataFrame(all_reports)"
   ]
  },
  {
   "cell_type": "code",
   "execution_count": 127,
   "metadata": {},
   "outputs": [
    {
     "data": {
      "text/html": [
       "<div>\n",
       "<style scoped>\n",
       "    .dataframe tbody tr th:only-of-type {\n",
       "        vertical-align: middle;\n",
       "    }\n",
       "\n",
       "    .dataframe tbody tr th {\n",
       "        vertical-align: top;\n",
       "    }\n",
       "\n",
       "    .dataframe thead th {\n",
       "        text-align: right;\n",
       "    }\n",
       "</style>\n",
       "<table border=\"1\" class=\"dataframe\">\n",
       "  <thead>\n",
       "    <tr style=\"text-align: right;\">\n",
       "      <th></th>\n",
       "      <th>Baseline (Default Hyperparameter)</th>\n",
       "      <th>Random Search</th>\n",
       "    </tr>\n",
       "  </thead>\n",
       "  <tbody>\n",
       "    <tr>\n",
       "      <th>train - precision</th>\n",
       "      <td>0.861647</td>\n",
       "      <td>0.978022</td>\n",
       "    </tr>\n",
       "    <tr>\n",
       "      <th>train - recall</th>\n",
       "      <td>0.721833</td>\n",
       "      <td>0.815633</td>\n",
       "    </tr>\n",
       "    <tr>\n",
       "      <th>train - accuracy</th>\n",
       "      <td>0.802965</td>\n",
       "      <td>0.898652</td>\n",
       "    </tr>\n",
       "    <tr>\n",
       "      <th>train - f1_score</th>\n",
       "      <td>0.785568</td>\n",
       "      <td>0.889477</td>\n",
       "    </tr>\n",
       "    <tr>\n",
       "      <th>test - precision</th>\n",
       "      <td>0.469697</td>\n",
       "      <td>0.491071</td>\n",
       "    </tr>\n",
       "    <tr>\n",
       "      <th>test - recall</th>\n",
       "      <td>0.488189</td>\n",
       "      <td>0.433071</td>\n",
       "    </tr>\n",
       "    <tr>\n",
       "      <th>test - accuracy_score</th>\n",
       "      <td>0.771574</td>\n",
       "      <td>0.781726</td>\n",
       "    </tr>\n",
       "    <tr>\n",
       "      <th>test - f1_score</th>\n",
       "      <td>0.478764</td>\n",
       "      <td>0.460251</td>\n",
       "    </tr>\n",
       "  </tbody>\n",
       "</table>\n",
       "</div>"
      ],
      "text/plain": [
       "                       Baseline (Default Hyperparameter)  Random Search\n",
       "train - precision                               0.861647       0.978022\n",
       "train - recall                                  0.721833       0.815633\n",
       "train - accuracy                                0.802965       0.898652\n",
       "train - f1_score                                0.785568       0.889477\n",
       "test - precision                                0.469697       0.491071\n",
       "test - recall                                   0.488189       0.433071\n",
       "test - accuracy_score                           0.771574       0.781726\n",
       "test - f1_score                                 0.478764       0.460251"
      ]
     },
     "execution_count": 127,
     "metadata": {},
     "output_type": "execute_result"
    }
   ],
   "source": [
    "#menampilkan tabel perbandingan nilai dari f1 test yang default dan dengan metode random search\n",
    "all_reports = performance_report(all_reports, y_trains, y_pred_train_finals, y_test, y_pred_test_finals, 'Random Search')\n",
    "pd.DataFrame(all_reports)"
   ]
  },
  {
   "cell_type": "markdown",
   "metadata": {},
   "source": [
    "Hadil : Dari Hasil kesimpulan bisa didapatkan bahwa untuk test-f1score dari model KNN yang lebih bagus adalah yang default. Jadi model yang akan dipakai pada data inference untuk mempredict apakah user berhasil bayar atau tidak adalah KNN default"
   ]
  },
  {
   "cell_type": "code",
   "execution_count": 130,
   "metadata": {},
   "outputs": [],
   "source": [
    "#mendefine fungsi KNN yang sudah di hyperparameter tuning dengan fungsi random search untuk di simpan dalam file pkl\n",
    "model_knn=KNeighborsClassifier().fit(X_train_finals,y_trains)"
   ]
  },
  {
   "cell_type": "markdown",
   "metadata": {},
   "source": [
    "# x. Model Saving"
   ]
  },
  {
   "cell_type": "code",
   "execution_count": 131,
   "metadata": {},
   "outputs": [],
   "source": [
    "# Model Saving\n",
    "\n",
    "with open('scaler.pkl', 'wb') as file_1:\n",
    "  pickle.dump(scaler, file_1)\n",
    "\n",
    "with open('model_knn.pkl', 'wb') as file_2:\n",
    "  pickle.dump(model_knn, file_2)"
   ]
  }
 ],
 "metadata": {
  "kernelspec": {
   "display_name": "Python 3 (ipykernel)",
   "language": "python",
   "name": "python3"
  },
  "language_info": {
   "codemirror_mode": {
    "name": "ipython",
    "version": 3
   },
   "file_extension": ".py",
   "mimetype": "text/x-python",
   "name": "python",
   "nbconvert_exporter": "python",
   "pygments_lexer": "ipython3",
   "version": "3.11.8"
  }
 },
 "nbformat": 4,
 "nbformat_minor": 4
}
